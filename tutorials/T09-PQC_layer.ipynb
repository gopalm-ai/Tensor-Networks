{
  "nbformat": 4,
  "nbformat_minor": 5,
  "metadata": {
    "kernelspec": {
      "display_name": "Python 3",
      "language": "python",
      "name": "python3"
    },
    "language_info": {
      "codemirror_mode": {
        "name": "ipython",
        "version": 3
      },
      "file_extension": ".py",
      "mimetype": "text/x-python",
      "name": "python",
      "nbconvert_exporter": "python",
      "pygments_lexer": "ipython3",
      "version": "3.7.10"
    },
    "colab": {
      "name": "T09-PQC_layer.ipynb",
      "provenance": []
    }
  },
  "cells": [
    {
      "cell_type": "markdown",
      "metadata": {
        "id": "43738209"
      },
      "source": [
        "# PQC layer\n",
        "\n",
        "This tutorial demonstrates how to use the Parameterised Quantum Circuit (PQC) layer from Quple. The code is written using the [Tensorflow Keras Layers API](https://www.tensorflow.org/api_docs/python/tf/keras/layers/Layer) and the [Tensorflow Quantum Layers API](https://www.tensorflow.org/quantum/api_docs/python/tfq/layers). "
      ],
      "id": "43738209"
    },
    {
      "cell_type": "markdown",
      "metadata": {
        "id": "22968eb4"
      },
      "source": [
        "## 0. Setup"
      ],
      "id": "22968eb4"
    },
    {
      "cell_type": "code",
      "metadata": {
        "id": "938ef30c"
      },
      "source": [
        "import sys\n",
        "# install modules if inside google Colab environment\n",
        "if 'google.colab' in sys.modules:\n",
        "    !pip install tensorflow==2.4.1\n",
        "    !pip install tensorflow-quantum\n",
        "    !pip install quple==0.9.0"
      ],
      "id": "938ef30c",
      "execution_count": null,
      "outputs": []
    },
    {
      "cell_type": "code",
      "metadata": {
        "id": "26a0c277"
      },
      "source": [
        "import numpy as np\n",
        "\n",
        "import tensorflow as tf\n",
        "import tensorflow_quantum as tfq\n",
        "\n",
        "from quple.utils.visualization import visualize_images\n",
        "from quple import ParameterisedCircuit\n",
        "\n",
        "from quple.interface.tfq.layers import PQC"
      ],
      "id": "26a0c277",
      "execution_count": null,
      "outputs": []
    },
    {
      "cell_type": "markdown",
      "metadata": {
        "id": "8eb206f1"
      },
      "source": [
        "## 1. Create a simple PQC model\n",
        "\n",
        "The `PQC` layer requires two paramterised quantum circuits:\n",
        "\n",
        "- A **data circuit** (or input circuit) for mapping classical data to the quantum states of the quantum circuit. \n",
        "\n",
        "- A **model circuit** that contains the trainable weights as parameters of the quantum circuit. \n",
        " \n",
        "These circuits are merged together during the quantum simulation. Inputs to the `PQC` layer will be parsed as the parameter values inside the data circuit. The output of the `PQC` layer is the expectation value of a certain measurement operators, or **readouts**, on designated qubits of the model circuit."
      ],
      "id": "8eb206f1"
    },
    {
      "cell_type": "markdown",
      "metadata": {
        "id": "1c1afcd7"
      },
      "source": [
        "**Data circuit**\n",
        "\n",
        "For the data circuit, let's start with a simple 2 qubit parameterised circuit with a layer of parameterised Rx rotation with parameter symbol \"x\""
      ],
      "id": "1c1afcd7"
    },
    {
      "cell_type": "code",
      "metadata": {
        "id": "9823605a",
        "outputId": "f6e80120-3c3e-4ef1-dc3d-402d1d176447"
      },
      "source": [
        "data_cq = ParameterisedCircuit(n_qubit=2, rotation_blocks=[\"RX\"], parameter_symbol=\"x\")\n",
        "data_cq"
      ],
      "id": "9823605a",
      "execution_count": null,
      "outputs": [
        {
          "data": {
            "text/html": [
              "<pre style=\"overflow: auto; white-space: pre;\">(0, 0): ───Rx(x_0)───\n",
              "\n",
              "(0, 1): ───Rx(x_1)───</pre>"
            ],
            "text/plain": [
              "(0, 0): ───Rx(x_0)───\n",
              "\n",
              "(0, 1): ───Rx(x_1)───"
            ]
          },
          "execution_count": 3,
          "metadata": {},
          "output_type": "execute_result"
        }
      ]
    },
    {
      "cell_type": "markdown",
      "metadata": {
        "id": "1209a9ba"
      },
      "source": [
        "**Model circuit**\n",
        "\n",
        "For the model circuit, let's start with a simple 2 qubit parameterised circuit with a layer of parameterised Ry rotation with parameter symbol \"$\\theta$\" (default)"
      ],
      "id": "1209a9ba"
    },
    {
      "cell_type": "code",
      "metadata": {
        "id": "3dcfe99b",
        "outputId": "2db69759-ee2e-4ff4-c24a-f7a3adf5fccd"
      },
      "source": [
        "model_cq = ParameterisedCircuit(n_qubit=2, rotation_blocks=[\"RY\"])\n",
        "model_cq"
      ],
      "id": "3dcfe99b",
      "execution_count": null,
      "outputs": [
        {
          "data": {
            "text/html": [
              "<pre style=\"overflow: auto; white-space: pre;\">(0, 0): ───Ry(θ_0)───\n",
              "\n",
              "(0, 1): ───Ry(θ_1)───</pre>"
            ],
            "text/plain": [
              "(0, 0): ───Ry(θ_0)───\n",
              "\n",
              "(0, 1): ───Ry(θ_1)───"
            ]
          },
          "execution_count": 4,
          "metadata": {},
          "output_type": "execute_result"
        }
      ]
    },
    {
      "cell_type": "markdown",
      "metadata": {
        "id": "68068ef0"
      },
      "source": [
        "**Readouts**\n",
        "\n",
        "We will measure the $Z$ component of the qubit's quantum state"
      ],
      "id": "68068ef0"
    },
    {
      "cell_type": "code",
      "metadata": {
        "id": "e2af10ff"
      },
      "source": [
        "readouts = model_cq.get_gate_operation(\"Z\", model_cq.qubits)"
      ],
      "id": "e2af10ff",
      "execution_count": null,
      "outputs": []
    },
    {
      "cell_type": "markdown",
      "metadata": {
        "id": "ce53741f"
      },
      "source": [
        "Now create a simple quantum model with the `PQC` layer"
      ],
      "id": "ce53741f"
    },
    {
      "cell_type": "code",
      "metadata": {
        "id": "3e29e807"
      },
      "source": [
        "model = PQC(model_cq, data_cq, readouts, seed=2021)"
      ],
      "id": "3e29e807",
      "execution_count": null,
      "outputs": []
    },
    {
      "cell_type": "markdown",
      "metadata": {
        "id": "78439420"
      },
      "source": [
        "## 2. Validation of the PQC model\n",
        "\n",
        "In this section, we will verify that the implementation of the PQC model is consistent with expectation from physics"
      ],
      "id": "78439420"
    },
    {
      "cell_type": "markdown",
      "metadata": {
        "id": "39774444"
      },
      "source": [
        "### Analytic Result from Quantum Mechanics\n",
        "\n",
        "Initial qubit states:\n",
        "\n",
        "$\\phi_0 = |00\\rangle = |0\\rangle\\otimes|0\\rangle$\n",
        "\n",
        "The rotaion operators used in our circuits are:\n",
        "\n",
        "$\\text{Rx}(\\theta) = \\begin{bmatrix} \\cos(\\theta/2) & -i\\sin(\\theta/2) \\\\ -i\\sin(\\theta/2) & \\cos(\\theta/2) \\end{bmatrix}$,\n",
        "$\\text{Ry}(\\theta) = \\begin{bmatrix} \\cos(\\theta/2) & -\\sin(\\theta/2) \\\\ \\sin(\\theta/2) & \\cos(\\theta/2) \\end{bmatrix}$\n",
        "\n",
        "Final $k$-th qubit state:\n",
        "\n",
        "$\\phi_k = \\text{Ry}(\\theta_k)\\text{Rx}(x_k)\\phi_{0,k} = \\begin{bmatrix} \\cos(\\theta_k/2)\\cos(x_k/2)+i\\sin(\\theta_k/2)\\sin(x_k/2) \\\\ \\sin(\\theta_k/2)\\cos(x_k/2) -i\\cos(\\theta_k/2)\\sin(x_k/2)\\end{bmatrix}$\n",
        "\n",
        "Expectation value of $Z$ for the $k$-th qubit:\n",
        "\n",
        "$\\langle \\phi_k | Z | \\phi_k\\rangle$\n",
        "\n",
        "$= |\\cos(\\theta_k/2)\\cos(x_k/2)+i\\sin(\\theta_k/2)\\sin(x_k/2)|^2 - |\\sin(\\theta_k/2)\\cos(x_k/2) -i\\cos(\\theta_k/2)\\sin(x_k/2)|^2$\n",
        "\n",
        "$= \\cos^2(\\theta_k/2)\\cos^2(x_k/2)+\\sin^2(\\theta_k/2)\\sin^2(x_k/2) - \\sin^2(\\theta_k/2)\\cos^2(x_k/2) - \\cos^2(\\theta_k/2)\\sin^2(x_k/2)$\n",
        "\n",
        "$=\\cos(\\theta_k)\\cos(x_k)$\n",
        "\n",
        "Intuitively, it's just the projection of the qubit which has just been rotated along the x and y axes by $x_k$ and $\\theta_k$ back to the z axis"
      ],
      "id": "39774444"
    },
    {
      "cell_type": "markdown",
      "metadata": {
        "id": "99c6ee96"
      },
      "source": [
        "### Result from PQC"
      ],
      "id": "99c6ee96"
    },
    {
      "cell_type": "markdown",
      "metadata": {
        "id": "cc93536a"
      },
      "source": [
        "Trainable weights ($\\theta$) from the model circuit:"
      ],
      "id": "cc93536a"
    },
    {
      "cell_type": "code",
      "metadata": {
        "id": "0ed6ef72",
        "outputId": "860c82d6-2658-42e2-89de-8d69a7355184"
      },
      "source": [
        "weights = model.weights[0].numpy()\n",
        "print(\"================================================\")\n",
        "print(\"Trainable weight symbols:\", model.symbols)\n",
        "print(\"Trainable weight values:\", weights)\n",
        "print(\"================================================\")"
      ],
      "id": "0ed6ef72",
      "execution_count": null,
      "outputs": [
        {
          "name": "stdout",
          "output_type": "stream",
          "text": [
            "================================================\n",
            "Trainable weight symbols: [θ_0, θ_1]\n",
            "Trainable weight values: [0.03559315 5.7009115 ]\n",
            "================================================\n"
          ]
        }
      ]
    },
    {
      "cell_type": "markdown",
      "metadata": {
        "id": "2304245f"
      },
      "source": [
        "Now create 100 random samples of $x$:"
      ],
      "id": "2304245f"
    },
    {
      "cell_type": "code",
      "metadata": {
        "id": "629d0b65"
      },
      "source": [
        "# ensure reproducible result\n",
        "np.random.seed(2021)\n",
        "sample_size = 100\n",
        "x = np.random.normal(size=(sample_size, 2))"
      ],
      "id": "629d0b65",
      "execution_count": null,
      "outputs": []
    },
    {
      "cell_type": "markdown",
      "metadata": {
        "id": "c92ce2d3"
      },
      "source": [
        "Check out the first sample:"
      ],
      "id": "c92ce2d3"
    },
    {
      "cell_type": "code",
      "metadata": {
        "id": "c91af70a",
        "outputId": "d30900c7-9a00-4239-fdd4-2cb4e03631a6"
      },
      "source": [
        "print(\"================================================\")\n",
        "print(\"data symbols:\", model.input_symbols)\n",
        "print(\"data values:\", x[0])\n",
        "print(\"================================================\")"
      ],
      "id": "c91af70a",
      "execution_count": null,
      "outputs": [
        {
          "name": "stdout",
          "output_type": "stream",
          "text": [
            "================================================\n",
            "data symbols: [<x_0/pi>, <x_1/pi>]\n",
            "data values: [1.48860905 0.67601087]\n",
            "================================================\n"
          ]
        }
      ]
    },
    {
      "cell_type": "markdown",
      "metadata": {
        "id": "38b2c190"
      },
      "source": [
        "**Note**: The $1/\\pi$ factor in data symbols is an artifact of how cirq treats flattened circuit parameter expression for rotation gates. The expression will eventually be multiplied by another $\\pi$ factor to get back the original data value."
      ],
      "id": "38b2c190"
    },
    {
      "cell_type": "markdown",
      "metadata": {
        "id": "379bd9c6"
      },
      "source": [
        "Now check the model output:"
      ],
      "id": "379bd9c6"
    },
    {
      "cell_type": "code",
      "metadata": {
        "id": "12ad00f8"
      },
      "source": [
        "output = model(x).numpy()"
      ],
      "id": "12ad00f8",
      "execution_count": null,
      "outputs": []
    },
    {
      "cell_type": "code",
      "metadata": {
        "id": "564f89d1",
        "outputId": "70a7c60f-3f39-4278-94db-f5d8c35e8237"
      },
      "source": [
        "print(\"Analytic result:\")\n",
        "print(np.cos(weights)*np.cos(x[0]))\n",
        "print(\"PQC result:\")\n",
        "print(output[0])"
      ],
      "id": "564f89d1",
      "execution_count": null,
      "outputs": [
        {
          "name": "stdout",
          "output_type": "stream",
          "text": [
            "Analytic result:\n",
            "[0.08204278 0.65152974]\n",
            "PQC result:\n",
            "[0.08204272 0.6515305 ]\n"
          ]
        }
      ]
    },
    {
      "cell_type": "markdown",
      "metadata": {
        "id": "7f0a8d37"
      },
      "source": [
        "The difference between the analytic result and PQC result is mainly due to the precision of the default quantum simulator.\n",
        "\n",
        "Now, let's check the PQC results are consistent with analytic resuls for all data samples:"
      ],
      "id": "7f0a8d37"
    },
    {
      "cell_type": "code",
      "metadata": {
        "id": "f944deeb",
        "outputId": "0a7f0993-89ea-4a85-9abd-749c3bd281c1"
      },
      "source": [
        "print(\"Are the results consistent?\")\n",
        "tolerance = 1e-5\n",
        "analytic_result = np.cos(weights)*np.cos(x)\n",
        "np.count_nonzero(analytic_result - output > tolerance) == 0"
      ],
      "id": "f944deeb",
      "execution_count": null,
      "outputs": [
        {
          "name": "stdout",
          "output_type": "stream",
          "text": [
            "Are the results consistent?\n"
          ]
        },
        {
          "data": {
            "text/plain": [
              "True"
            ]
          },
          "execution_count": 12,
          "metadata": {},
          "output_type": "execute_result"
        }
      ]
    },
    {
      "cell_type": "markdown",
      "metadata": {
        "id": "0f942c8a"
      },
      "source": [
        "## 3.  Evaluate Gradients\n",
        "\n",
        "This section shows how to calculate gradients for PQC layer/model using `tf.GradientTape`."
      ],
      "id": "0f942c8a"
    },
    {
      "cell_type": "markdown",
      "metadata": {
        "id": "df84b119"
      },
      "source": [
        "Suppose that we define a loss function $L$ in terms of the model output $y = \\text{PQC}(x)$:\n",
        "\n",
        "$L = y^2 = (\\text{PQC}(x))^2$\n",
        "\n",
        "Analytically, the loss value is\n",
        "\n",
        "$L = \\cos^2(\\theta_k)\\cos^2(x_k)$\n",
        "\n",
        "Gradient with respect to $\\theta_k$:\n",
        "\n",
        "$\\frac{dL}{d\\theta_k} = -2\\cos(\\theta_k)\\sin(\\theta_k)\\cos^2(x_k) = -\\sin(2\\theta_k)\\cos^2(x_k)$"
      ],
      "id": "df84b119"
    },
    {
      "cell_type": "code",
      "metadata": {
        "id": "be8f10f2",
        "outputId": "2df13bc9-b74e-4983-8d99-3903a8b6bcf9"
      },
      "source": [
        "analytic_result = np.sum(-np.sin(2*weights)*(np.cos(x[:])**2), axis=0)\n",
        "analytic_result"
      ],
      "id": "be8f10f2",
      "execution_count": null,
      "outputs": [
        {
          "data": {
            "text/plain": [
              "array([-3.63324594, 52.37198535])"
            ]
          },
          "execution_count": 13,
          "metadata": {},
          "output_type": "execute_result"
        }
      ]
    },
    {
      "cell_type": "markdown",
      "metadata": {
        "id": "00277c3f"
      },
      "source": [
        "Let's then calculate the gradient with the PQC model"
      ],
      "id": "00277c3f"
    },
    {
      "cell_type": "code",
      "metadata": {
        "id": "8a8d658a",
        "outputId": "27f707ff-d6f9-4aab-b0fb-7ee6a3e716c1"
      },
      "source": [
        "with tf.GradientTape() as tape:\n",
        "    loss = model(x)*model(x)\n",
        "gradient = tape.gradient(loss, model.trainable_variables)\n",
        "gradient = gradient[0].numpy()\n",
        "gradient"
      ],
      "id": "8a8d658a",
      "execution_count": null,
      "outputs": [
        {
          "data": {
            "text/plain": [
              "array([-3.6336653, 52.3725   ], dtype=float32)"
            ]
          },
          "execution_count": 14,
          "metadata": {},
          "output_type": "execute_result"
        }
      ]
    },
    {
      "cell_type": "markdown",
      "metadata": {
        "id": "5789491c"
      },
      "source": [
        "## 4. Practical Example - Building a simple classification algorithm using PQC\n",
        "\n",
        "We want to perform classification on a simple dataset $x = [x_0, x_1], 0 \\leq x_0, x_1 \\leq 1$ so that $ y = 0$ if $x_0 + x_1 < 1$ and $y = 1$ if $x_0 + x_1 \\geq 1$"
      ],
      "id": "5789491c"
    },
    {
      "cell_type": "code",
      "metadata": {
        "id": "f57bdf85"
      },
      "source": [
        "sample_size = 10000\n",
        "np.random.seed(2021)\n",
        "x_train = np.random.uniform(size=(sample_size, 2))\n",
        "y_train = np.where(np.sum(x_train, axis=1) < 1, 0, 1)\n",
        "\n",
        "x_val = np.random.uniform(size=(sample_size//2, 2))\n",
        "y_val = np.where(np.sum(x_val, axis=1) < 1, 0, 1)\n",
        "\n",
        "x_test = np.random.uniform(size=(sample_size//2, 2))\n",
        "y_test = np.where(np.sum(x_test, axis=1) < 1, 0, 1)"
      ],
      "id": "f57bdf85",
      "execution_count": null,
      "outputs": []
    },
    {
      "cell_type": "markdown",
      "metadata": {
        "id": "5aaeb6fc"
      },
      "source": [
        "Now create a Keras sequential model with PQC layer"
      ],
      "id": "5aaeb6fc"
    },
    {
      "cell_type": "code",
      "metadata": {
        "id": "c912de7b",
        "outputId": "0fd31431-d50b-4bde-fdb3-85e4babb7e36"
      },
      "source": [
        "from quple.data_encoding import FirstOrderPauliZEncoding\n",
        "data_cq = FirstOrderPauliZEncoding(feature_dimension=2, copies=2)\n",
        "data_cq"
      ],
      "id": "c912de7b",
      "execution_count": null,
      "outputs": [
        {
          "data": {
            "text/html": [
              "<pre style=\"overflow: auto; white-space: pre;\">(0, 0): ───H───Rz(pi*x_0)───H───Rz(pi*x_0)───\n",
              "\n",
              "(0, 1): ───H───Rz(pi*x_1)───H───Rz(pi*x_1)───</pre>"
            ],
            "text/plain": [
              "(0, 0): ───H───Rz(pi*x_0)───H───Rz(pi*x_0)───\n",
              "\n",
              "(0, 1): ───H───Rz(pi*x_1)───H───Rz(pi*x_1)───"
            ]
          },
          "execution_count": 16,
          "metadata": {},
          "output_type": "execute_result"
        }
      ]
    },
    {
      "cell_type": "code",
      "metadata": {
        "id": "5196c5b1",
        "outputId": "cfbd449d-2929-45cd-fce0-58fdda58135b"
      },
      "source": [
        "model_cq = ParameterisedCircuit(n_qubit=2, copies=2, rotation_blocks=[\"RY\", \"RZ\"],\n",
        "                                entanglement_blocks=[\"CX\"], final_rotation_layer=True)\n",
        "model_cq"
      ],
      "id": "5196c5b1",
      "execution_count": null,
      "outputs": [
        {
          "data": {
            "text/html": [
              "<pre style=\"overflow: auto; white-space: pre;\">(0, 0): ───Ry(θ_0)───Rz(θ_2)───@───Ry(θ_4)───Rz(θ_6)───@───Ry(θ_8)───Rz(θ_10)───\n",
              "                               │                       │\n",
              "(0, 1): ───Ry(θ_1)───Rz(θ_3)───X───Ry(θ_5)───Rz(θ_7)───X───Ry(θ_9)───Rz(θ_11)───</pre>"
            ],
            "text/plain": [
              "(0, 0): ───Ry(θ_0)───Rz(θ_2)───@───Ry(θ_4)───Rz(θ_6)───@───Ry(θ_8)───Rz(θ_10)───\n",
              "                               │                       │\n",
              "(0, 1): ───Ry(θ_1)───Rz(θ_3)───X───Ry(θ_5)───Rz(θ_7)───X───Ry(θ_9)───Rz(θ_11)───"
            ]
          },
          "execution_count": 17,
          "metadata": {},
          "output_type": "execute_result"
        }
      ]
    },
    {
      "cell_type": "code",
      "metadata": {
        "id": "3c7ac608"
      },
      "source": [
        "# measure last qubit\n",
        "readout = model_cq.get_gate_operation(\"Z\", model_cq.qubits[-1])"
      ],
      "id": "3c7ac608",
      "execution_count": null,
      "outputs": []
    },
    {
      "cell_type": "code",
      "metadata": {
        "id": "b020f350"
      },
      "source": [
        "model = tf.keras.Sequential()\n",
        "model.add(tf.keras.layers.Input(shape=(2,), dtype=tf.float32))\n",
        "model.add(PQC(model_cq, data_cq, readout, seed=2021))\n",
        "tf.random.set_seed(2021)\n",
        "model.compile(optimizer=\"adam\", loss=\"mse\", metrics=['binary_accuracy'])"
      ],
      "id": "b020f350",
      "execution_count": null,
      "outputs": []
    },
    {
      "cell_type": "code",
      "metadata": {
        "id": "24929c87",
        "outputId": "ea96cce6-e9ff-4a9e-ff13-7862248d9a6b"
      },
      "source": [
        "model.fit(x_train, y_train, batch_size=128, epochs=25, validation_data=(x_val, y_val))"
      ],
      "id": "24929c87",
      "execution_count": null,
      "outputs": [
        {
          "name": "stdout",
          "output_type": "stream",
          "text": [
            "Epoch 1/25\n",
            "79/79 [==============================] - 6s 72ms/step - loss: 0.4109 - binary_accuracy: 0.6315 - val_loss: 0.3746 - val_binary_accuracy: 0.6490\n",
            "Epoch 2/25\n",
            "79/79 [==============================] - 5s 62ms/step - loss: 0.3651 - binary_accuracy: 0.6429 - val_loss: 0.3343 - val_binary_accuracy: 0.6544\n",
            "Epoch 3/25\n",
            "79/79 [==============================] - 5s 62ms/step - loss: 0.3202 - binary_accuracy: 0.6550 - val_loss: 0.3076 - val_binary_accuracy: 0.6562\n",
            "Epoch 4/25\n",
            "79/79 [==============================] - 5s 62ms/step - loss: 0.2992 - binary_accuracy: 0.6615 - val_loss: 0.2903 - val_binary_accuracy: 0.6560\n",
            "Epoch 5/25\n",
            "79/79 [==============================] - 5s 61ms/step - loss: 0.2869 - binary_accuracy: 0.6597 - val_loss: 0.2774 - val_binary_accuracy: 0.6582\n",
            "Epoch 6/25\n",
            "79/79 [==============================] - 5s 61ms/step - loss: 0.2764 - binary_accuracy: 0.6599 - val_loss: 0.2656 - val_binary_accuracy: 0.6666\n",
            "Epoch 7/25\n",
            "79/79 [==============================] - 5s 62ms/step - loss: 0.2569 - binary_accuracy: 0.6824 - val_loss: 0.2521 - val_binary_accuracy: 0.6802\n",
            "Epoch 8/25\n",
            "79/79 [==============================] - 5s 61ms/step - loss: 0.2389 - binary_accuracy: 0.6939 - val_loss: 0.2353 - val_binary_accuracy: 0.6946\n",
            "Epoch 9/25\n",
            "79/79 [==============================] - 5s 61ms/step - loss: 0.2315 - binary_accuracy: 0.6979 - val_loss: 0.2166 - val_binary_accuracy: 0.7154\n",
            "Epoch 10/25\n",
            "79/79 [==============================] - 5s 61ms/step - loss: 0.2109 - binary_accuracy: 0.7198 - val_loss: 0.1993 - val_binary_accuracy: 0.7302\n",
            "Epoch 11/25\n",
            "79/79 [==============================] - 5s 61ms/step - loss: 0.1992 - binary_accuracy: 0.7320 - val_loss: 0.1862 - val_binary_accuracy: 0.7520\n",
            "Epoch 12/25\n",
            "79/79 [==============================] - 5s 62ms/step - loss: 0.1828 - binary_accuracy: 0.7586 - val_loss: 0.1771 - val_binary_accuracy: 0.7678\n",
            "Epoch 13/25\n",
            "79/79 [==============================] - 5s 61ms/step - loss: 0.1748 - binary_accuracy: 0.7768 - val_loss: 0.1706 - val_binary_accuracy: 0.7832\n",
            "Epoch 14/25\n",
            "79/79 [==============================] - 5s 61ms/step - loss: 0.1699 - binary_accuracy: 0.7820 - val_loss: 0.1652 - val_binary_accuracy: 0.7936\n",
            "Epoch 15/25\n",
            "79/79 [==============================] - 5s 61ms/step - loss: 0.1636 - binary_accuracy: 0.7955 - val_loss: 0.1603 - val_binary_accuracy: 0.8040\n",
            "Epoch 16/25\n",
            "79/79 [==============================] - 5s 61ms/step - loss: 0.1610 - binary_accuracy: 0.8052 - val_loss: 0.1555 - val_binary_accuracy: 0.8168\n",
            "Epoch 17/25\n",
            "79/79 [==============================] - 5s 61ms/step - loss: 0.1563 - binary_accuracy: 0.8167 - val_loss: 0.1507 - val_binary_accuracy: 0.8258\n",
            "Epoch 18/25\n",
            "79/79 [==============================] - 5s 61ms/step - loss: 0.1552 - binary_accuracy: 0.8207 - val_loss: 0.1462 - val_binary_accuracy: 0.8360\n",
            "Epoch 19/25\n",
            "79/79 [==============================] - 5s 61ms/step - loss: 0.1453 - binary_accuracy: 0.8329 - val_loss: 0.1419 - val_binary_accuracy: 0.8448\n",
            "Epoch 20/25\n",
            "79/79 [==============================] - 5s 61ms/step - loss: 0.1383 - binary_accuracy: 0.8486 - val_loss: 0.1381 - val_binary_accuracy: 0.8504\n",
            "Epoch 21/25\n",
            "79/79 [==============================] - 5s 61ms/step - loss: 0.1359 - binary_accuracy: 0.8539 - val_loss: 0.1346 - val_binary_accuracy: 0.8544\n",
            "Epoch 22/25\n",
            "79/79 [==============================] - 5s 61ms/step - loss: 0.1316 - binary_accuracy: 0.8592 - val_loss: 0.1317 - val_binary_accuracy: 0.8588\n",
            "Epoch 23/25\n",
            "79/79 [==============================] - 5s 61ms/step - loss: 0.1307 - binary_accuracy: 0.8605 - val_loss: 0.1292 - val_binary_accuracy: 0.8632\n",
            "Epoch 24/25\n",
            "79/79 [==============================] - 5s 61ms/step - loss: 0.1294 - binary_accuracy: 0.8611 - val_loss: 0.1271 - val_binary_accuracy: 0.8674\n",
            "Epoch 25/25\n",
            "79/79 [==============================] - 5s 61ms/step - loss: 0.1254 - binary_accuracy: 0.8690 - val_loss: 0.1254 - val_binary_accuracy: 0.8722\n"
          ]
        },
        {
          "data": {
            "text/plain": [
              "<tensorflow.python.keras.callbacks.History at 0x7fed36ced610>"
            ]
          },
          "execution_count": 20,
          "metadata": {},
          "output_type": "execute_result"
        }
      ]
    },
    {
      "cell_type": "code",
      "metadata": {
        "id": "a9e52936",
        "outputId": "ab3f1909-0190-4cd0-f263-ab7b3ff758c4"
      },
      "source": [
        "print(\"Evaluate on test data\")\n",
        "results = model.evaluate(x_test, y_test, batch_size=128)\n",
        "print(\"test loss, test acc:\", results)"
      ],
      "id": "a9e52936",
      "execution_count": null,
      "outputs": [
        {
          "name": "stdout",
          "output_type": "stream",
          "text": [
            "Evaluate on test data\n",
            "40/40 [==============================] - 1s 27ms/step - loss: 0.1273 - binary_accuracy: 0.8660\n",
            "test loss, test acc: [0.12733320891857147, 0.8659999966621399]\n"
          ]
        }
      ]
    },
    {
      "cell_type": "code",
      "metadata": {
        "id": "44af5c92"
      },
      "source": [
        "y_pred = model.predict(x_test).flatten()\n",
        "pred_labels = np.where(y_pred < 0, 0, 1)"
      ],
      "id": "44af5c92",
      "execution_count": null,
      "outputs": []
    },
    {
      "cell_type": "code",
      "metadata": {
        "id": "ab4cea5e",
        "outputId": "5dc8fdad-24b4-4695-ba9c-f24d5cd42e60"
      },
      "source": [
        "pred_labels[:100]"
      ],
      "id": "ab4cea5e",
      "execution_count": null,
      "outputs": [
        {
          "data": {
            "text/plain": [
              "array([0, 1, 1, 0, 1, 0, 1, 1, 0, 1, 0, 1, 0, 1, 1, 1, 0, 1, 1, 1, 1, 1,\n",
              "       1, 0, 0, 0, 1, 1, 1, 1, 1, 1, 0, 1, 1, 1, 0, 0, 0, 1, 0, 1, 1, 1,\n",
              "       1, 1, 1, 0, 1, 1, 1, 1, 1, 1, 1, 1, 1, 1, 1, 1, 0, 1, 1, 1, 1, 1,\n",
              "       1, 0, 1, 0, 1, 1, 0, 1, 1, 1, 1, 1, 1, 1, 1, 1, 1, 1, 1, 0, 1, 0,\n",
              "       1, 1, 1, 1, 1, 1, 1, 1, 1, 0, 1, 0])"
            ]
          },
          "execution_count": 23,
          "metadata": {},
          "output_type": "execute_result"
        }
      ]
    },
    {
      "cell_type": "code",
      "metadata": {
        "id": "a0e8dfc0",
        "outputId": "6c4a1171-9421-4723-e491-45a5244c839d"
      },
      "source": [
        "y_test[:100]"
      ],
      "id": "a0e8dfc0",
      "execution_count": null,
      "outputs": [
        {
          "data": {
            "text/plain": [
              "array([0, 1, 1, 0, 1, 0, 1, 1, 0, 0, 0, 1, 0, 1, 1, 0, 0, 1, 1, 0, 1, 1,\n",
              "       1, 0, 0, 0, 0, 1, 1, 0, 1, 1, 0, 0, 1, 0, 0, 0, 0, 0, 0, 1, 0, 0,\n",
              "       0, 1, 1, 0, 0, 0, 1, 1, 0, 1, 1, 1, 0, 0, 1, 1, 0, 1, 0, 0, 1, 0,\n",
              "       0, 0, 1, 0, 1, 0, 0, 1, 1, 1, 0, 1, 1, 1, 1, 1, 1, 0, 1, 0, 1, 0,\n",
              "       1, 0, 0, 0, 1, 1, 1, 1, 1, 0, 0, 0])"
            ]
          },
          "execution_count": 24,
          "metadata": {},
          "output_type": "execute_result"
        }
      ]
    }
  ]
}
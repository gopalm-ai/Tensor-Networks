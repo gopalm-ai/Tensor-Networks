{
  "nbformat": 4,
  "nbformat_minor": 0,
  "metadata": {
    "colab": {
      "name": "T05-Encoding_Circuit.ipynb",
      "provenance": []
    },
    "kernelspec": {
      "display_name": "Python 3",
      "language": "python",
      "name": "python3"
    },
    "language_info": {
      "codemirror_mode": {
        "name": "ipython",
        "version": 3
      },
      "file_extension": ".py",
      "mimetype": "text/x-python",
      "name": "python",
      "nbconvert_exporter": "python",
      "pygments_lexer": "ipython3",
      "version": "3.7.10"
    }
  },
  "cells": [
    {
      "cell_type": "code",
      "metadata": {
        "id": "UumIeO3faDkc"
      },
      "source": [
        "if 'google.colab' in str(get_ipython()):\n",
        "  # install packages required for this tutorial\n",
        "  !pip install tensorflow==2.3.1\n",
        "  !pip install tensorflow_quantum==0.4.0\n",
        "  !pip install quple==0.7.8"
      ],
      "execution_count": null,
      "outputs": []
    },
    {
      "cell_type": "markdown",
      "metadata": {
        "id": "NJi-na5mbv4L"
      },
      "source": [
        "# Tutorial-05 Encoding Circuit\n",
        "\n",
        "In this tutorial, you will learn how to:\n",
        "\n",
        "- Create a data encoding circuit with build-in templates\n",
        "- Create customized data encoding circuit using template circuit blocks"
      ]
    },
    {
      "cell_type": "markdown",
      "metadata": {
        "id": "7COg_NQLbv4M"
      },
      "source": [
        "# Data Encoding Circuit\n",
        "\n",
        "A data encoding circuit is a quantum circuit for the encoding of classical data into the quantum state of the circuit qubits. It can be interpreted as a feature map $\\mathbf{x} \\rightarrow U_{\\phi(\\mathbf{x})}|0\\rangle^{\\otimes n}$ to the Hilbert space of $n$ qubits, where $\\phi$ is an encoding function which transforms the data vector into the circuit parameters. Specifically, $U_{\\phi (\\mathbf{x})}$ is implemented as a series of unitary gate operations in the quantum circuit. There are several ways to encode data into qubits and each one provides different expressive power to the original data. \n",
        "\n",
        "The encoding circuits implemented by Quple consists of layers of unitary operators of the form $\\exp(i\\psi(x)\\Sigma)H^{\\times n}$ where $\\psi$ is a data encoding function, $\\Sigma$ is a generalized Pauli operator from the general Pauli group $G_n$ which is an $n$-fold tensor product of Pauli operators on $n$ qubits, and $x = (x_1, \\dots , x_n )$ are the input features to be encoded. Layers of Pauli operators may be repeated several times (called the circuit depths) to the increase frequency spectrum of the final quantum state and thereby the expressivity of a quantum model equipped with the encoding circuit. \n",
        "\n",
        "The class that implements the encoding circuits are\n",
        "* GeneralPauliEncoding\n",
        "* GeneralPauliZEncoding\n",
        "* FirstOrderPauliZEncoding\n",
        "* SecondOrderPauliZEncoding"
      ]
    },
    {
      "cell_type": "code",
      "metadata": {
        "id": "JL4d-reZbv4P"
      },
      "source": [
        "# import the quple encoding circuit modules\n",
        "from quple.data_encoding import GeneralPauliEncoding\n",
        "from quple.data_encoding import GeneralPauliZEncoding\n",
        "from quple.data_encoding import FirstOrderPauliZEncoding\n",
        "from quple.data_encoding import SecondOrderPauliZEncoding"
      ],
      "execution_count": null,
      "outputs": []
    },
    {
      "cell_type": "markdown",
      "metadata": {
        "id": "rGbURcn5aDkj"
      },
      "source": [
        "### GeneralPauliEncoding\n",
        "\n",
        "Arguments:\n",
        "* feature_dimension (int): dimension of feature vector\n",
        "* paulis (str, list of str): Pauli operations to be performed on each circuit block\n",
        "* encoding_map (callable, default=None): data mapping function from $\\mathbb{R}^{\\text{feature dimension}} \\rightarrow \\mathbb{R}$. If None, the self product encoding function is used. \n",
        "* copies (int): number of times the circuit is repeated (circuit depth)"
      ]
    },
    {
      "cell_type": "markdown",
      "metadata": {
        "id": "uoI8MIdDbv4R"
      },
      "source": [
        "# Creates a general pruali encoding circuit with feature dimension 5 with circuit depth 2 using the Pauli 'Z'\n",
        "encoding_circuit = GeneralPauliEncoding(feature_dimension=5, paulis=['Z'], copies=2)\n",
        "encoding_circuit"
      ]
    },
    {
      "cell_type": "code",
      "metadata": {
        "id": "amOm1NXbaDkk",
        "outputId": "1bfbe4db-1b51-4426-eec3-7aa03726a189"
      },
      "source": [
        "# Creates a general pruali encoding circuit with feature dimension 3 with circuit depth 1 using the Pauli 'X' and 'XX\n",
        "encoding_circuit = GeneralPauliEncoding(feature_dimension=3, paulis=['X', 'XX'], copies=1)\n",
        "encoding_circuit"
      ],
      "execution_count": null,
      "outputs": [
        {
          "data": {
            "text/html": [
              "<pre style=\"overflow: auto; white-space: pre;\">(0, 0): ───H───Rx(pi*x_0)───H───@──────────────────────@───H───H───@──────────────────────@───H──────────────────────────────────────\n",
              "                                │                      │           │                      │\n",
              "(0, 1): ───H───Rx(pi*x_1)───H───X───Rz(pi*&lt;x_0*x_1&gt;)───X───H───────┼──────────────────────┼───H───────@──────────────────────@───H───\n",
              "                                                                   │                      │           │                      │\n",
              "(0, 2): ───H───Rx(pi*x_2)──────────────────────────────────────H───X───Rz(pi*&lt;x_0*x_2&gt;)───X───H───H───X───Rz(pi*&lt;x_1*x_2&gt;)───X───H───</pre>"
            ],
            "text/plain": [
              "(0, 0): ───H───Rx(pi*x_0)───H───@──────────────────────@───H───H───@──────────────────────@───H──────────────────────────────────────\n",
              "                                │                      │           │                      │\n",
              "(0, 1): ───H───Rx(pi*x_1)───H───X───Rz(pi*<x_0*x_1>)───X───H───────┼──────────────────────┼───H───────@──────────────────────@───H───\n",
              "                                                                   │                      │           │                      │\n",
              "(0, 2): ───H───Rx(pi*x_2)──────────────────────────────────────H───X───Rz(pi*<x_0*x_2>)───X───H───H───X───Rz(pi*<x_1*x_2>)───X───H───"
            ]
          },
          "execution_count": 7,
          "metadata": {},
          "output_type": "execute_result"
        }
      ]
    },
    {
      "cell_type": "markdown",
      "metadata": {
        "id": "fuWvaM6uaDkm"
      },
      "source": [
        "### GeneralPauliZEncoding\n",
        "\n",
        "A special case of `GeneralPauliEncoding` with Pauli operations composing of various orders of `Z` \n",
        "\n",
        "Arguments:\n",
        "* feature_dimension (int): dimension of feature vector\n",
        "* z_order (int): Order of pauli z operations to be performed on each circuit block\n",
        "* encoding_map (callable, default=None): data mapping function from $\\mathbb{R}^{\\text{feature dimension}} \\rightarrow \\mathbb{R}$. If None, the self product encoding function is used. \n",
        "* copies (int): number of times the circuit is repeated (circuit depth)"
      ]
    },
    {
      "cell_type": "code",
      "metadata": {
        "id": "Fnn_9lxraDkn",
        "outputId": "9c703b44-e3ba-483d-a4e8-89d7c8903252"
      },
      "source": [
        "# Creates a general pruali z encoding circuit with feature dimension 4 with circuit depth 2 using the Pauli 'Z'\n",
        "encoding_circuit = GeneralPauliZEncoding(feature_dimension=4, z_order=1, copies=2)\n",
        "encoding_circuit"
      ],
      "execution_count": null,
      "outputs": [
        {
          "name": "stdout",
          "output_type": "stream",
          "text": [
            "(0, 0): ───H───Rz(pi*x_0)───H───Rz(pi*x_0)───\n",
            "\n",
            "(0, 1): ───H───Rz(pi*x_1)───H───Rz(pi*x_1)───\n",
            "\n",
            "(0, 2): ───H───Rz(pi*x_2)───H───Rz(pi*x_2)───\n",
            "\n",
            "(0, 3): ───H───Rz(pi*x_3)───H───Rz(pi*x_3)───\n"
          ]
        }
      ]
    },
    {
      "cell_type": "code",
      "metadata": {
        "id": "VwJg8KS0aDkn",
        "outputId": "24fb9dbf-f6c4-472c-ed48-2a22e203e272"
      },
      "source": [
        "# Creates a general pruali z encoding circuit with feature dimension 4 with circuit depth 1 using the Pauli 'Z', 'ZZ' and 'ZZZ'\n",
        "encoding_circuit = GeneralPauliZEncoding(feature_dimension=3, z_order=3, copies=1)\n",
        "encoding_circuit"
      ],
      "execution_count": null,
      "outputs": [
        {
          "data": {
            "text/html": [
              "<pre style=\"overflow: auto; white-space: pre;\">(0, 0): ───H───Rz(pi*x_0)───@──────────────────────@───@──────────────────────@──────────────────────────────@──────────────────────────────────@───\n",
              "                            │                      │   │                      │                              │                                  │\n",
              "(0, 1): ───H───Rz(pi*x_1)───X───Rz(pi*&lt;x_0*x_1&gt;)───X───┼──────────────────────┼───@──────────────────────@───X───@──────────────────────────@───X───\n",
              "                                                       │                      │   │                      │       │                          │\n",
              "(0, 2): ───H───Rz(pi*x_2)──────────────────────────────X───Rz(pi*&lt;x_0*x_2&gt;)───X───X───Rz(pi*&lt;x_1*x_2&gt;)───X───────X───Rz(pi*&lt;x_0*x_1*x_2&gt;)───X───────</pre>"
            ],
            "text/plain": [
              "(0, 0): ───H───Rz(pi*x_0)───@──────────────────────@───@──────────────────────@──────────────────────────────@──────────────────────────────────@───\n",
              "                            │                      │   │                      │                              │                                  │\n",
              "(0, 1): ───H───Rz(pi*x_1)───X───Rz(pi*<x_0*x_1>)───X───┼──────────────────────┼───@──────────────────────@───X───@──────────────────────────@───X───\n",
              "                                                       │                      │   │                      │       │                          │\n",
              "(0, 2): ───H───Rz(pi*x_2)──────────────────────────────X───Rz(pi*<x_0*x_2>)───X───X───Rz(pi*<x_1*x_2>)───X───────X───Rz(pi*<x_0*x_1*x_2>)───X───────"
            ]
          },
          "execution_count": 9,
          "metadata": {},
          "output_type": "execute_result"
        }
      ]
    },
    {
      "cell_type": "markdown",
      "metadata": {
        "id": "A2__Sw82aDkn"
      },
      "source": [
        "### FirstOrderPauliZEncoding\n",
        "\n",
        "A special case of `GeneralPauliZEncoding` with `z_order=1`\n",
        "\n",
        "Arguments:\n",
        "* feature_dimension (int): dimension of feature vector\n",
        "* encoding_map (callable, default=None): data mapping function from $\\mathbb{R}^{\\text{feature dimension}} \\rightarrow \\mathbb{R}$. If None, the self product encoding function is used. \n",
        "* copies (int): number of times the circuit is repeated (circuit depth)"
      ]
    },
    {
      "cell_type": "code",
      "metadata": {
        "id": "4d9WuDVKaDko",
        "outputId": "bf14a9ef-9db1-4c58-f2c1-0ef26b032e98"
      },
      "source": [
        "# Creates a general pruali z encoding circuit with feature dimension 5 with circuit depth 2 using the Pauli 'Z'\n",
        "encoding_circuit = FirstOrderPauliZEncoding(feature_dimension=5, copies=2)\n",
        "print(encoding_circuit)"
      ],
      "execution_count": null,
      "outputs": [
        {
          "name": "stdout",
          "output_type": "stream",
          "text": [
            "(0, 0): ───H───Rz(pi*x_0)───H───Rz(pi*x_0)───\n",
            "\n",
            "(0, 1): ───H───Rz(pi*x_1)───H───Rz(pi*x_1)───\n",
            "\n",
            "(0, 2): ───H───Rz(pi*x_2)───H───Rz(pi*x_2)───\n",
            "\n",
            "(0, 3): ───H───Rz(pi*x_3)───H───Rz(pi*x_3)───\n",
            "\n",
            "(0, 4): ───H───Rz(pi*x_4)───H───Rz(pi*x_4)───\n"
          ]
        }
      ]
    },
    {
      "cell_type": "markdown",
      "metadata": {
        "id": "yXBtO11JaDko"
      },
      "source": [
        "### SecondOrderPauliZEncoding\n",
        "\n",
        "A special case of `GeneralPauliZEncoding` with `z_order=2`\n",
        "\n",
        "Arguments:\n",
        "* feature_dimension (int): dimension of feature vector\n",
        "* encoding_map (callable, default=None): data mapping function from $\\mathbb{R}^{\\text{feature dimension}} \\rightarrow \\mathbb{R}$. If None, the self product encoding function is used. \n",
        "* copies (int): number of times the circuit is repeated (circuit depth)"
      ]
    },
    {
      "cell_type": "code",
      "metadata": {
        "id": "yESU1AEaaDko",
        "outputId": "48f54011-75a5-4621-cbae-11018504d0e6"
      },
      "source": [
        "# Creates a general pruali z encoding circuit with feature dimension 3 with circuit depth 2 using the Pauli 'Z' and 'ZZ'\n",
        "encoding_circuit = SecondOrderPauliZEncoding(feature_dimension=3, copies=2)\n",
        "encoding_circuit"
      ],
      "execution_count": null,
      "outputs": [
        {
          "data": {
            "text/html": [
              "<pre style=\"overflow: auto; white-space: pre;\">(0, 0): ───H───Rz(pi*x_0)───@──────────────────────@───@──────────────────────@──────────────────────────H───Rz(pi*x_0)────────────────@──────────────────────@───@──────────────────────@──────────────────────────────\n",
              "                            │                      │   │                      │                                                        │                      │   │                      │\n",
              "(0, 1): ───H───Rz(pi*x_1)───X───Rz(pi*&lt;x_0*x_1&gt;)───X───┼──────────────────────┼───@──────────────────────@───H────────────Rz(pi*x_1)───X───Rz(pi*&lt;x_0*x_1&gt;)───X───┼──────────────────────┼───@──────────────────────@───\n",
              "                                                       │                      │   │                      │                                                        │                      │   │                      │\n",
              "(0, 2): ───H───Rz(pi*x_2)──────────────────────────────X───Rz(pi*&lt;x_0*x_2&gt;)───X───X───Rz(pi*&lt;x_1*x_2&gt;)───X───H────────────Rz(pi*x_2)──────────────────────────────X───Rz(pi*&lt;x_0*x_2&gt;)───X───X───Rz(pi*&lt;x_1*x_2&gt;)───X───</pre>"
            ],
            "text/plain": [
              "(0, 0): ───H───Rz(pi*x_0)───@──────────────────────@───@──────────────────────@──────────────────────────H───Rz(pi*x_0)────────────────@──────────────────────@───@──────────────────────@──────────────────────────────\n",
              "                            │                      │   │                      │                                                        │                      │   │                      │\n",
              "(0, 1): ───H───Rz(pi*x_1)───X───Rz(pi*<x_0*x_1>)───X───┼──────────────────────┼───@──────────────────────@───H────────────Rz(pi*x_1)───X───Rz(pi*<x_0*x_1>)───X───┼──────────────────────┼───@──────────────────────@───\n",
              "                                                       │                      │   │                      │                                                        │                      │   │                      │\n",
              "(0, 2): ───H───Rz(pi*x_2)──────────────────────────────X───Rz(pi*<x_0*x_2>)───X───X───Rz(pi*<x_1*x_2>)───X───H────────────Rz(pi*x_2)──────────────────────────────X───Rz(pi*<x_0*x_2>)───X───X───Rz(pi*<x_1*x_2>)───X───"
            ]
          },
          "execution_count": 11,
          "metadata": {},
          "output_type": "execute_result"
        }
      ]
    },
    {
      "cell_type": "markdown",
      "metadata": {
        "id": "rFqHur7caDkp"
      },
      "source": [
        "### Use of a different encoding map"
      ]
    },
    {
      "cell_type": "code",
      "metadata": {
        "id": "ZReg2KKYaDkp",
        "outputId": "4238ce3e-0b46-47fe-86f1-e0dd5db83555"
      },
      "source": [
        "from quple.data_encoding.encoding_maps import distance_measure\n",
        "# Creates a general pruali z encoding circuit with feature dimension 3 with circuit depth 1 using the Pauli 'Z' and 'ZZ' using the distance measure encoding map\n",
        "encoding_circuit = SecondOrderPauliZEncoding(feature_dimension=3, copies=1, encoding_map=distance_measure)\n",
        "print(encoding_circuit)"
      ],
      "execution_count": null,
      "outputs": [
        {
          "name": "stdout",
          "output_type": "stream",
          "text": [
            "(0, 0): ───H───Rz(pi*x_0)───@────────────────────────────@───@────────────────────────────@────────────────────────────────────\n",
            "                            │                            │   │                            │\n",
            "(0, 1): ───H───Rz(pi*x_1)───X───Rz(pi*<x_0/2 - x_1/2>)───X───┼────────────────────────────┼───@────────────────────────────@───\n",
            "                                                             │                            │   │                            │\n",
            "(0, 2): ───H───Rz(pi*x_2)────────────────────────────────────X───Rz(pi*<x_0/2 - x_2/2>)───X───X───Rz(pi*<x_1/2 - x_2/2>)───X───\n"
          ]
        }
      ]
    },
    {
      "cell_type": "markdown",
      "metadata": {
        "id": "d3h9XdvzaDkp"
      },
      "source": [
        "## Create custom encoding circuit"
      ]
    },
    {
      "cell_type": "markdown",
      "metadata": {
        "id": "sS89HgCdaDkq"
      },
      "source": [
        "### 1. Using the base class `EncodingCircuit`\n",
        "\n",
        "Usage is similar to `ParameterisedCircuit`"
      ]
    },
    {
      "cell_type": "code",
      "metadata": {
        "id": "ghuXmsbxaDkq",
        "outputId": "a2f7b348-1ce3-4af1-cc82-4ff795f515af"
      },
      "source": [
        "from quple.data_encoding import EncodingCircuit\n",
        "encoding_circuit = EncodingCircuit(feature_dimension=4, copies=1, rotation_blocks=['RX', 'RY'], entanglement_blocks=['XX', 'YY'])\n",
        "encoding_circuit"
      ],
      "execution_count": null,
      "outputs": [
        {
          "data": {
            "text/html": [
              "<pre style=\"overflow: auto; white-space: pre;\">                                                                 ┌────────────┐                              ┌────────────┐\n",
              "(0, 0): ───Rx(pi*&lt;x_0/pi&gt;)───Ry(pi*&lt;x_0/pi&gt;)───XX───────XX────────XX───────────────────────YY───────YY────────YY────────────────────────────────\n",
              "                                               │        │         │                        │        │         │\n",
              "(0, 1): ───Rx(pi*&lt;x_1/pi&gt;)───Ry(pi*&lt;x_1/pi&gt;)───XX^x_0───┼─────────┼─────XX────────XX───────YY^x_0───┼─────────┼─────YY────────YY────────────────\n",
              "                                                        │         │     │         │                 │         │     │         │\n",
              "(0, 2): ───Rx(pi*&lt;x_2/pi&gt;)───Ry(pi*&lt;x_2/pi&gt;)────────────XX^x_1────┼─────XX^x_3────┼────────XX───────YY^x_1────┼─────YY^x_3────┼────────YY───────\n",
              "                                                                  │               │        │                  │               │        │\n",
              "(0, 3): ───Rx(pi*&lt;x_3/pi&gt;)───Ry(pi*&lt;x_3/pi&gt;)──────────────────────XX^x_2──────────XX^x_4───XX^x_5─────────────YY^x_2──────────YY^x_4───YY^x_5───\n",
              "                                                                 └────────────┘                              └────────────┘</pre>"
            ],
            "text/plain": [
              "                                                                 ┌────────────┐                              ┌────────────┐\n",
              "(0, 0): ───Rx(pi*<x_0/pi>)───Ry(pi*<x_0/pi>)───XX───────XX────────XX───────────────────────YY───────YY────────YY────────────────────────────────\n",
              "                                               │        │         │                        │        │         │\n",
              "(0, 1): ───Rx(pi*<x_1/pi>)───Ry(pi*<x_1/pi>)───XX^x_0───┼─────────┼─────XX────────XX───────YY^x_0───┼─────────┼─────YY────────YY────────────────\n",
              "                                                        │         │     │         │                 │         │     │         │\n",
              "(0, 2): ───Rx(pi*<x_2/pi>)───Ry(pi*<x_2/pi>)────────────XX^x_1────┼─────XX^x_3────┼────────XX───────YY^x_1────┼─────YY^x_3────┼────────YY───────\n",
              "                                                                  │               │        │                  │               │        │\n",
              "(0, 3): ───Rx(pi*<x_3/pi>)───Ry(pi*<x_3/pi>)──────────────────────XX^x_2──────────XX^x_4───XX^x_5─────────────YY^x_2──────────YY^x_4───YY^x_5───\n",
              "                                                                 └────────────┘                              └────────────┘"
            ]
          },
          "execution_count": 16,
          "metadata": {},
          "output_type": "execute_result"
        }
      ]
    },
    {
      "cell_type": "markdown",
      "metadata": {
        "id": "vPdGIa9FaDkq"
      },
      "source": [
        "2. Create a template circuit block\n",
        "\n",
        "Using the `TemplateCircuitBlock` class, one can customize a circuit block to be applied in the entanglement layer"
      ]
    },
    {
      "cell_type": "code",
      "metadata": {
        "id": "C_CgoHYTaDkq"
      },
      "source": [
        "from typing import Sequence\n",
        "import numpy as np\n",
        "\n",
        "from quple import TemplateCircuitBlock\n",
        "\n",
        "# create the RISWAP circuit block which consist of a parameterised RXX followed by a parameterised RYY block\n",
        "\n",
        "class RISWAPBlock(TemplateCircuitBlock):\n",
        "    \n",
        "    @staticmethod\n",
        "    def RYY(circuit:'quple.ParameterisedCircuit', theta, qubits:Sequence[int]):\n",
        "        circuit.RX(np.pi/2, list(qubits))\n",
        "        circuit.CX(tuple(qubits))\n",
        "        circuit.RZ(theta, qubits[1])\n",
        "        circuit.CX(tuple(qubits))\n",
        "        circuit.RX(-np.pi/2, list(qubits))\n",
        "        \n",
        "    @staticmethod\n",
        "    def RXX(circuit:'quple.ParameterisedCircuit', theta, qubits:Sequence[int]):\n",
        "        circuit.H(list(qubits))\n",
        "        circuit.CX(tuple(qubits))\n",
        "        circuit.RZ(theta, qubits[1])\n",
        "        circuit.CX(tuple(qubits))\n",
        "        circuit.H(list(qubits))\n",
        "        \n",
        "\n",
        "    def build(self, circuit:'quple.ParameterisedCircuit', qubits:Sequence[int]):\n",
        "        theta = circuit.new_param()\n",
        "        RISWAPBlock.RXX(circuit, theta, qubits)\n",
        "        RISWAPBlock.RYY(circuit, theta, qubits)\n",
        "    \n",
        "    @property\n",
        "    def num_block_qubits(self) -> int:\n",
        "        return 2"
      ],
      "execution_count": null,
      "outputs": []
    },
    {
      "cell_type": "code",
      "metadata": {
        "id": "eXolVswaaDkr",
        "outputId": "9378d29c-21f3-4e0e-a3d5-8c0ab1068678"
      },
      "source": [
        "encoding_circuit = EncodingCircuit(feature_dimension=4, copies=1, entanglement_blocks=[RISWAPBlock()], entangle_strategy='linear')\n",
        "encoding_circuit"
      ],
      "execution_count": null,
      "outputs": [
        {
          "data": {
            "text/html": [
              "<pre style=\"overflow: auto; white-space: pre;\">(0, 0): ───H───H───@─────────────────────@───H───Rx(0.5π)───@─────────────────────@───Rx(-0.5π)─────────────────────────────────────────────────────────────────────────────────────────────────────────────────────────────────────────────────────────────────────────\n",
              "                   │                     │                  │                     │\n",
              "(0, 1): ───H───H───X───Rz(pi*&lt;x_0/pi&gt;)───X───H───Rx(0.5π)───X───Rz(pi*&lt;x_0/pi&gt;)───X───Rx(-0.5π)───H───@─────────────────────@───H───Rx(0.5π)───@─────────────────────@───Rx(-0.5π)──────────────────────────────────────────────────────────────────────────────────────\n",
              "                                                                                                      │                     │                  │                     │\n",
              "(0, 2): ───H──────────────────────────────────────────────────────────────────────────────────────H───X───Rz(pi*&lt;x_1/pi&gt;)───X───H───Rx(0.5π)───X───Rz(pi*&lt;x_1/pi&gt;)───X───Rx(-0.5π)───H───@─────────────────────@───H───Rx(0.5π)───@─────────────────────@───Rx(-0.5π)───\n",
              "                                                                                                                                                                                         │                     │                  │                     │\n",
              "(0, 3): ───H─────────────────────────────────────────────────────────────────────────────────────────────────────────────────────────────────────────────────────────────────────────H───X───Rz(pi*&lt;x_2/pi&gt;)───X───H───Rx(0.5π)───X───Rz(pi*&lt;x_2/pi&gt;)───X───Rx(-0.5π)───</pre>"
            ],
            "text/plain": [
              "(0, 0): ───H───H───@─────────────────────@───H───Rx(0.5π)───@─────────────────────@───Rx(-0.5π)─────────────────────────────────────────────────────────────────────────────────────────────────────────────────────────────────────────────────────────────────────────\n",
              "                   │                     │                  │                     │\n",
              "(0, 1): ───H───H───X───Rz(pi*<x_0/pi>)───X───H───Rx(0.5π)───X───Rz(pi*<x_0/pi>)───X───Rx(-0.5π)───H───@─────────────────────@───H───Rx(0.5π)───@─────────────────────@───Rx(-0.5π)──────────────────────────────────────────────────────────────────────────────────────\n",
              "                                                                                                      │                     │                  │                     │\n",
              "(0, 2): ───H──────────────────────────────────────────────────────────────────────────────────────H───X───Rz(pi*<x_1/pi>)───X───H───Rx(0.5π)───X───Rz(pi*<x_1/pi>)───X───Rx(-0.5π)───H───@─────────────────────@───H───Rx(0.5π)───@─────────────────────@───Rx(-0.5π)───\n",
              "                                                                                                                                                                                         │                     │                  │                     │\n",
              "(0, 3): ───H─────────────────────────────────────────────────────────────────────────────────────────────────────────────────────────────────────────────────────────────────────────H───X───Rz(pi*<x_2/pi>)───X───H───Rx(0.5π)───X───Rz(pi*<x_2/pi>)───X───Rx(-0.5π)───"
            ]
          },
          "execution_count": 24,
          "metadata": {},
          "output_type": "execute_result"
        }
      ]
    },
    {
      "cell_type": "code",
      "metadata": {
        "id": "f2Ws7Lo7aDkr"
      },
      "source": [
        ""
      ],
      "execution_count": null,
      "outputs": []
    }
  ]
}
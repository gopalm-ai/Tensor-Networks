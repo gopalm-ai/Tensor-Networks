{
  "nbformat": 4,
  "nbformat_minor": 5,
  "metadata": {
    "kernelspec": {
      "display_name": "Python 3",
      "language": "python",
      "name": "python3"
    },
    "language_info": {
      "codemirror_mode": {
        "name": "ipython",
        "version": 3
      },
      "file_extension": ".py",
      "mimetype": "text/x-python",
      "name": "python",
      "nbconvert_exporter": "python",
      "pygments_lexer": "ipython3",
      "version": "3.7.10"
    },
    "colab": {
      "name": "T03-Interaction_Graphs.ipynb",
      "provenance": [],
      "include_colab_link": true
    }
  },
  "cells": [
    {
      "cell_type": "markdown",
      "metadata": {
        "id": "view-in-github",
        "colab_type": "text"
      },
      "source": [
        "<a href=\"https://colab.research.google.com/github/gopalm-ai/Tensor-Networks/blob/main/tutorials/T03-Interaction_Graphs.ipynb\" target=\"_parent\"><img src=\"https://colab.research.google.com/assets/colab-badge.svg\" alt=\"Open In Colab\"/></a>"
      ]
    },
    {
      "cell_type": "code",
      "metadata": {
        "id": "unnecessary-pharmacology"
      },
      "source": [
        "if 'google.colab' in str(get_ipython()):\n",
        "  # install packages required for this tutorial\n",
        "  !pip install tensorflow==2.3.1\n",
        "  !pip install tensorflow_quantum==0.4.0\n",
        "  !pip install quple==0.7.8"
      ],
      "id": "unnecessary-pharmacology",
      "execution_count": null,
      "outputs": []
    },
    {
      "cell_type": "markdown",
      "metadata": {
        "id": "frequent-thunder"
      },
      "source": [
        "# Tutorial-03 Interaction Graphs\n",
        "\n",
        "In this tutorial, you will learn:\n",
        "\n",
        "- Various build-in interaction graphs for connecting qubits with multi-qubit gate operations\n",
        "- Construct your own interaction graphs"
      ],
      "id": "frequent-thunder"
    },
    {
      "cell_type": "markdown",
      "metadata": {
        "id": "normal-raise"
      },
      "source": [
        "## Interaction Graphs\n",
        "An interaction graph determines how the qubits in a quantum circuit are connected by a specific gate operation. In the circuit centric architecture, all qubits must be touched by the gate operation at least once. If the gate operation acts on $m$ qubits for a circuit with $n$ qubits then an interaction graph for that gate operation will consist of a collection of distinct $m$-tuple of qubits created from the $n$ circuit qubits. The most common use cases for an interaction graph is to determine how qubits are entangled by a two-qubit gate operation. \n",
        "    \n",
        "The interaction graph category implemented by `quple` are: \n",
        "​\n",
        "* `linear` (or `nearest_neighbor`)\n",
        "​\n",
        "* `cyclic` (or `circular`),\n",
        "​\n",
        "* `star`\n",
        "​\n",
        "* `full` (or `fully_connected`)\n",
        "​\n",
        "* `alternate_linear`\n",
        "​\n",
        "* `alternate_cyclic`\n",
        "​\n",
        "* `filter_mesh` (for Quantum GAN)\n",
        "​\n",
        "* `pool_mesh` (for Quantum GAN)\n",
        "​"
      ],
      "id": "normal-raise"
    },
    {
      "cell_type": "code",
      "metadata": {
        "id": "environmental-butterfly"
      },
      "source": [
        "from quple.components.interaction_graphs import nearest_neighbor, cyclic, star, fully_connected, alternate_linear, alternate_cyclic"
      ],
      "id": "environmental-butterfly",
      "execution_count": null,
      "outputs": []
    },
    {
      "cell_type": "markdown",
      "metadata": {
        "id": "smart-journal"
      },
      "source": [
        "### Interaction Graphs - Nearest Neighbor\n",
        "\n",
        "In the `nearest_neighbor` interaction, each qubit is connected to its next nearest neighbor in a linear manner."
      ],
      "id": "smart-journal"
    },
    {
      "cell_type": "code",
      "metadata": {
        "id": "collected-intro",
        "outputId": "87bc7fe2-7197-4395-b792-e401eda0ad92"
      },
      "source": [
        "# Nearest neighbor interaction graph for 4 qubit system with 2 qubit interaction\n",
        "nearest_neighbor(n=4, m=2)    "
      ],
      "id": "collected-intro",
      "execution_count": null,
      "outputs": [
        {
          "data": {
            "text/plain": [
              "[(0, 1), (1, 2), (2, 3)]"
            ]
          },
          "execution_count": 2,
          "metadata": {},
          "output_type": "execute_result"
        }
      ]
    },
    {
      "cell_type": "code",
      "metadata": {
        "id": "statistical-expense",
        "outputId": "1de1bdaa-0f26-40b2-ba94-2af10bae9ebb"
      },
      "source": [
        "from quple import ParameterisedCircuit\n",
        "# Building a circuit of 4 qubits with a layer of CNOT gates using\n",
        "# the nearest neighbor interaction graph\n",
        "circuit = ParameterisedCircuit(n_qubit=4)\n",
        "circuit.add_entanglement_layer(['CNOT'], entangle_strategy=nearest_neighbor)\n",
        "# Print out the circuit diagram\n",
        "print(circuit)"
      ],
      "id": "statistical-expense",
      "execution_count": null,
      "outputs": [
        {
          "name": "stdout",
          "output_type": "stream",
          "text": [
            "(0, 0): ───@───────────\n",
            "           │\n",
            "(0, 1): ───X───@───────\n",
            "               │\n",
            "(0, 2): ───────X───@───\n",
            "                   │\n",
            "(0, 3): ───────────X───\n"
          ]
        }
      ]
    },
    {
      "cell_type": "code",
      "metadata": {
        "id": "executed-publisher",
        "outputId": "e2fdaba6-ae3e-4b05-95d4-ef5e85ae203c"
      },
      "source": [
        "# alternatively, you can simply specify a string that corresponds to the entangle strategy\n",
        "# for example one can use `linear` or `nearest-neighbor` for using the nearest-neighbor interaction graphs\n",
        "circuit = ParameterisedCircuit(n_qubit=4, entanglement_blocks=['CNOT'], entangle_strategy='linear')\n",
        "print('---------------------------')\n",
        "print(circuit)\n",
        "circuit = ParameterisedCircuit(n_qubit=4, entanglement_blocks=['CNOT'], entangle_strategy='nearest_neighbor')\n",
        "print('---------------------------')\n",
        "print(circuit)\n",
        "print('---------------------------')"
      ],
      "id": "executed-publisher",
      "execution_count": null,
      "outputs": [
        {
          "name": "stdout",
          "output_type": "stream",
          "text": [
            "---------------------------\n",
            "(0, 0): ───@───────────\n",
            "           │\n",
            "(0, 1): ───X───@───────\n",
            "               │\n",
            "(0, 2): ───────X───@───\n",
            "                   │\n",
            "(0, 3): ───────────X───\n",
            "---------------------------\n",
            "(0, 0): ───@───────────\n",
            "           │\n",
            "(0, 1): ───X───@───────\n",
            "               │\n",
            "(0, 2): ───────X───@───\n",
            "                   │\n",
            "(0, 3): ───────────X───\n",
            "---------------------------\n"
          ]
        }
      ]
    },
    {
      "cell_type": "markdown",
      "metadata": {
        "id": "opposite-plasma"
      },
      "source": [
        "## Interaction Graphs - Cyclic\n",
        "\n",
        "In the `cyclic` interaction, each qubit is connected to its next nearest neighbor in a circular manner."
      ],
      "id": "opposite-plasma"
    },
    {
      "cell_type": "code",
      "metadata": {
        "id": "expanded-guide",
        "outputId": "e9c23708-04c3-429e-dd81-7e28d9d49fbf"
      },
      "source": [
        "# Cyclic graph for 4 qubit system with 2 qubit interaction\n",
        "cyclic(n=4, m=2) "
      ],
      "id": "expanded-guide",
      "execution_count": null,
      "outputs": [
        {
          "data": {
            "text/plain": [
              "[(0, 1), (1, 2), (2, 3), (3, 0)]"
            ]
          },
          "execution_count": 5,
          "metadata": {},
          "output_type": "execute_result"
        }
      ]
    },
    {
      "cell_type": "code",
      "metadata": {
        "id": "piano-mother",
        "outputId": "09b1afb3-3fa8-4928-cc36-b0e0005875be"
      },
      "source": [
        "# Building a circuit of 4 qubits with a layer of CNOT gates using\n",
        "# the cyclic interaction graph\n",
        "circuit = ParameterisedCircuit(n_qubit=4)\n",
        "circuit.add_entanglement_layer(['CNOT'], entangle_strategy='cyclic')\n",
        "circuit.add_entanglement_layer(['CNOT'], entangle_strategy='circular')\n",
        "# Print out the circuit diagram\n",
        "print(circuit)"
      ],
      "id": "piano-mother",
      "execution_count": null,
      "outputs": [
        {
          "name": "stdout",
          "output_type": "stream",
          "text": [
            "(0, 0): ───@───────────X───@───────────X───\n",
            "           │           │   │           │\n",
            "(0, 1): ───X───@───────┼───X───@───────┼───\n",
            "               │       │       │       │\n",
            "(0, 2): ───────X───@───┼───────X───@───┼───\n",
            "                   │   │           │   │\n",
            "(0, 3): ───────────X───@───────────X───@───\n"
          ]
        }
      ]
    },
    {
      "cell_type": "markdown",
      "metadata": {
        "id": "korean-removal"
      },
      "source": [
        "## Interaction Graphs - Star\n",
        "\n",
        "In the `star` interaction, the first qubit is connected to every other qubit."
      ],
      "id": "korean-removal"
    },
    {
      "cell_type": "code",
      "metadata": {
        "id": "helpful-strand",
        "outputId": "88ee61ce-afae-407e-83b2-d3bfdedc1429"
      },
      "source": [
        "# Star interaction graph for 4 qubit system with 2 qubit interaction\n",
        "star(n=4, m=2)  "
      ],
      "id": "helpful-strand",
      "execution_count": null,
      "outputs": [
        {
          "data": {
            "text/plain": [
              "[(0, 1), (0, 2), (0, 3)]"
            ]
          },
          "execution_count": 7,
          "metadata": {},
          "output_type": "execute_result"
        }
      ]
    },
    {
      "cell_type": "code",
      "metadata": {
        "id": "working-leone",
        "outputId": "3d4e72fb-b242-4161-eddb-360e97df4521"
      },
      "source": [
        "# Building a circuit of 4 qubits with a layer of CNOT gates using\n",
        "# the fully connected interaction graph\n",
        "circuit = ParameterisedCircuit(n_qubit=4)\n",
        "circuit.add_entanglement_layer(['CNOT'], entangle_strategy='star')\n",
        "# Print out the circuit diagram\n",
        "print(circuit)"
      ],
      "id": "working-leone",
      "execution_count": null,
      "outputs": [
        {
          "name": "stdout",
          "output_type": "stream",
          "text": [
            "(0, 0): ───@───@───@───\n",
            "           │   │   │\n",
            "(0, 1): ───X───┼───┼───\n",
            "               │   │\n",
            "(0, 2): ───────X───┼───\n",
            "                   │\n",
            "(0, 3): ───────────X───\n"
          ]
        }
      ]
    },
    {
      "cell_type": "markdown",
      "metadata": {
        "id": "theoretical-vacuum"
      },
      "source": [
        "## Interaction Graphs - Fully connected\n",
        "\n",
        "In the `fully_connected` interaction, every distinct ordered tuple of $m$ qubits are connected."
      ],
      "id": "theoretical-vacuum"
    },
    {
      "cell_type": "code",
      "metadata": {
        "id": "funded-smith",
        "outputId": "39cac6bf-4c72-4275-d896-955bf58a7092"
      },
      "source": [
        "# Fully connected interaction graph for 4 qubit system with 2 qubit interaction\n",
        "fully_connected(n=4, m=2)"
      ],
      "id": "funded-smith",
      "execution_count": null,
      "outputs": [
        {
          "data": {
            "text/plain": [
              "[(0, 1), (0, 2), (0, 3), (1, 2), (1, 3), (2, 3)]"
            ]
          },
          "execution_count": 9,
          "metadata": {},
          "output_type": "execute_result"
        }
      ]
    },
    {
      "cell_type": "code",
      "metadata": {
        "id": "following-french",
        "outputId": "d9d1d049-a79c-4ccd-e787-852e457d0372"
      },
      "source": [
        "# Building a circuit of 4 qubits with a layer of CNOT gates using\n",
        "# the fully connected interaction graph\n",
        "circuit = ParameterisedCircuit(n_qubit=4)\n",
        "circuit.add_entanglement_layer(['CNOT'], entangle_strategy='full')\n",
        "circuit"
      ],
      "id": "following-french",
      "execution_count": null,
      "outputs": [
        {
          "data": {
            "text/html": [
              "<pre style=\"overflow: auto; white-space: pre;\">                   ┌──┐\n",
              "(0, 0): ───@───@────@─────────────\n",
              "           │   │    │\n",
              "(0, 1): ───X───┼────┼@────@───────\n",
              "               │    ││    │\n",
              "(0, 2): ───────X────┼X────┼───@───\n",
              "                    │     │   │\n",
              "(0, 3): ────────────X─────X───X───\n",
              "                   └──┘</pre>"
            ],
            "text/plain": [
              "                   ┌──┐\n",
              "(0, 0): ───@───@────@─────────────\n",
              "           │   │    │\n",
              "(0, 1): ───X───┼────┼@────@───────\n",
              "               │    ││    │\n",
              "(0, 2): ───────X────┼X────┼───@───\n",
              "                    │     │   │\n",
              "(0, 3): ────────────X─────X───X───\n",
              "                   └──┘"
            ]
          },
          "execution_count": 10,
          "metadata": {},
          "output_type": "execute_result"
        }
      ]
    },
    {
      "cell_type": "markdown",
      "metadata": {
        "id": "religious-species"
      },
      "source": [
        "## Interaction Graphs - Alternate Linear\n",
        "\n",
        "In the alternate, all neiboring qubits are connected but in an alternating manner"
      ],
      "id": "religious-species"
    },
    {
      "cell_type": "code",
      "metadata": {
        "id": "proof-district",
        "outputId": "f2e23bb6-8e60-41b0-bb56-fae51d0e6ee3"
      },
      "source": [
        "alternate_linear(n=5, m=2)"
      ],
      "id": "proof-district",
      "execution_count": null,
      "outputs": [
        {
          "data": {
            "text/plain": [
              "[(0, 1), (2, 3), (1, 2), (3, 4)]"
            ]
          },
          "execution_count": 11,
          "metadata": {},
          "output_type": "execute_result"
        }
      ]
    },
    {
      "cell_type": "code",
      "metadata": {
        "id": "mobile-message",
        "outputId": "e31a9b0e-570f-4643-b2d0-1bae381fd1d3"
      },
      "source": [
        "circuit = ParameterisedCircuit(n_qubit=5)\n",
        "circuit.add_entanglement_layer(['CNOT'], entangle_strategy='alternate_linear')\n",
        "circuit"
      ],
      "id": "mobile-message",
      "execution_count": null,
      "outputs": [
        {
          "data": {
            "text/html": [
              "<pre style=\"overflow: auto; white-space: pre;\">(0, 0): ───@───────\n",
              "           │\n",
              "(0, 1): ───X───@───\n",
              "               │\n",
              "(0, 2): ───@───X───\n",
              "           │\n",
              "(0, 3): ───X───@───\n",
              "               │\n",
              "(0, 4): ───────X───</pre>"
            ],
            "text/plain": [
              "(0, 0): ───@───────\n",
              "           │\n",
              "(0, 1): ───X───@───\n",
              "               │\n",
              "(0, 2): ───@───X───\n",
              "           │\n",
              "(0, 3): ───X───@───\n",
              "               │\n",
              "(0, 4): ───────X───"
            ]
          },
          "execution_count": 12,
          "metadata": {},
          "output_type": "execute_result"
        }
      ]
    },
    {
      "cell_type": "markdown",
      "metadata": {
        "id": "single-newspaper"
      },
      "source": [
        "## Interaction Graphs - Alternate Cyclic\n",
        "\n",
        "In the alternate, all neiboring qubits are connected but in an alternating manner"
      ],
      "id": "single-newspaper"
    },
    {
      "cell_type": "code",
      "metadata": {
        "id": "viral-hospital",
        "outputId": "2a925f9d-dd9e-4a31-858d-17db231779e9"
      },
      "source": [
        "alternate_cyclic(n=5, m=2)"
      ],
      "id": "viral-hospital",
      "execution_count": null,
      "outputs": [
        {
          "data": {
            "text/plain": [
              "[(0, 1), (2, 3), (1, 2), (3, 4), (4, 0)]"
            ]
          },
          "execution_count": 13,
          "metadata": {},
          "output_type": "execute_result"
        }
      ]
    },
    {
      "cell_type": "code",
      "metadata": {
        "id": "foster-split",
        "outputId": "66544642-5859-40c6-c974-2ee61122bdd7"
      },
      "source": [
        "circuit = ParameterisedCircuit(n_qubit=5)\n",
        "circuit.add_entanglement_layer(['CNOT'], entangle_strategy='alternate_cyclic')\n",
        "circuit"
      ],
      "id": "foster-split",
      "execution_count": null,
      "outputs": [
        {
          "data": {
            "text/html": [
              "<pre style=\"overflow: auto; white-space: pre;\">(0, 0): ───@───────X───\n",
              "           │       │\n",
              "(0, 1): ───X───@───┼───\n",
              "               │   │\n",
              "(0, 2): ───@───X───┼───\n",
              "           │       │\n",
              "(0, 3): ───X───@───┼───\n",
              "               │   │\n",
              "(0, 4): ───────X───@───</pre>"
            ],
            "text/plain": [
              "(0, 0): ───@───────X───\n",
              "           │       │\n",
              "(0, 1): ───X───@───┼───\n",
              "               │   │\n",
              "(0, 2): ───@───X───┼───\n",
              "           │       │\n",
              "(0, 3): ───X───@───┼───\n",
              "               │   │\n",
              "(0, 4): ───────X───@───"
            ]
          },
          "execution_count": 14,
          "metadata": {},
          "output_type": "execute_result"
        }
      ]
    },
    {
      "cell_type": "markdown",
      "metadata": {
        "id": "foreign-musician"
      },
      "source": [
        "## Interaction Graphs - Custom Interaction Graph\n",
        "\n",
        "You can create your custom interaction graph that takes in two arguments: n is the number of qubits of the circuit and m is the number of qubits involved in one interaction. The function should return a list of tuples specifying the qubit connection."
      ],
      "id": "foreign-musician"
    },
    {
      "cell_type": "code",
      "metadata": {
        "id": "broadband-semester"
      },
      "source": [
        "def my_interaction(n, m=2):\n",
        "    if m != 2:\n",
        "        raise ValueError('Only 2 qubit gates are allowed for this interaction map')\n",
        "    return [(i, i+2) for i in range(n - 2)]"
      ],
      "id": "broadband-semester",
      "execution_count": null,
      "outputs": []
    },
    {
      "cell_type": "code",
      "metadata": {
        "id": "trained-defeat",
        "outputId": "ed726f12-102e-4dd1-af7e-a2d734a64cb9"
      },
      "source": [
        "# Custom interaction graph for 4 qubit system with 2 qubit interaction\n",
        "my_interaction(n=5, m=2)"
      ],
      "id": "trained-defeat",
      "execution_count": null,
      "outputs": [
        {
          "data": {
            "text/plain": [
              "[(0, 2), (1, 3), (2, 4)]"
            ]
          },
          "execution_count": 16,
          "metadata": {},
          "output_type": "execute_result"
        }
      ]
    },
    {
      "cell_type": "code",
      "metadata": {
        "id": "considerable-rental",
        "outputId": "235ee53d-83e5-4352-80df-6e67c9823aa8"
      },
      "source": [
        "# Building a circuit of 4 qubits with a layer of CNOT gates using\n",
        "# the my_interaction connected interaction graph\n",
        "circuit = ParameterisedCircuit(n_qubit=5)\n",
        "circuit.add_entanglement_layer(['CNOT'], entangle_strategy=my_interaction)\n",
        "circuit"
      ],
      "id": "considerable-rental",
      "execution_count": null,
      "outputs": [
        {
          "data": {
            "text/html": [
              "<pre style=\"overflow: auto; white-space: pre;\">           ┌──┐\n",
              "(0, 0): ────@─────────\n",
              "            │\n",
              "(0, 1): ────┼@────────\n",
              "            ││\n",
              "(0, 2): ────X┼────@───\n",
              "             │    │\n",
              "(0, 3): ─────X────┼───\n",
              "                  │\n",
              "(0, 4): ──────────X───\n",
              "           └──┘</pre>"
            ],
            "text/plain": [
              "           ┌──┐\n",
              "(0, 0): ────@─────────\n",
              "            │\n",
              "(0, 1): ────┼@────────\n",
              "            ││\n",
              "(0, 2): ────X┼────@───\n",
              "             │    │\n",
              "(0, 3): ─────X────┼───\n",
              "                  │\n",
              "(0, 4): ──────────X───\n",
              "           └──┘"
            ]
          },
          "execution_count": 17,
          "metadata": {},
          "output_type": "execute_result"
        }
      ]
    },
    {
      "cell_type": "code",
      "metadata": {
        "id": "random-niger"
      },
      "source": [
        ""
      ],
      "id": "random-niger",
      "execution_count": null,
      "outputs": []
    }
  ]
}
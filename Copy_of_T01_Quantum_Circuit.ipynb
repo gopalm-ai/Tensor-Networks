{
  "nbformat": 4,
  "nbformat_minor": 5,
  "metadata": {
    "kernelspec": {
      "display_name": "Python 3",
      "language": "python",
      "name": "python3"
    },
    "language_info": {
      "codemirror_mode": {
        "name": "ipython",
        "version": 3
      },
      "file_extension": ".py",
      "mimetype": "text/x-python",
      "name": "python",
      "nbconvert_exporter": "python",
      "pygments_lexer": "ipython3",
      "version": "3.7.10"
    },
    "colab": {
      "name": "Copy of T01-Quantum_Circuit.ipynb",
      "provenance": [],
      "include_colab_link": true
    }
  },
  "cells": [
    {
      "cell_type": "markdown",
      "metadata": {
        "id": "view-in-github",
        "colab_type": "text"
      },
      "source": [
        "<a href=\"https://colab.research.google.com/github/gopalm-ai/Tensor-Networks/blob/main/Copy_of_T01_Quantum_Circuit.ipynb\" target=\"_parent\"><img src=\"https://colab.research.google.com/assets/colab-badge.svg\" alt=\"Open In Colab\"/></a>"
      ]
    },
    {
      "cell_type": "code",
      "metadata": {
        "id": "norwegian-thought",
        "colab": {
          "base_uri": "https://localhost:8080/"
        },
        "outputId": "a3b5b7d2-551f-4411-ea65-15048028f4f0"
      },
      "source": [
        "if 'google.colab' in str(get_ipython()):\n",
        "  # install packages required for this tutorial\n",
        "  !pip install tensorflow==2.3.1\n",
        "  !pip install tensorflow_quantum==0.4.0\n",
        "  !pip install quple==0.7.8"
      ],
      "id": "norwegian-thought",
      "execution_count": 1,
      "outputs": [
        {
          "output_type": "stream",
          "name": "stdout",
          "text": [
            "Requirement already satisfied: tensorflow==2.3.1 in /usr/local/lib/python3.7/dist-packages (2.3.1)\n",
            "Requirement already satisfied: h5py<2.11.0,>=2.10.0 in /usr/local/lib/python3.7/dist-packages (from tensorflow==2.3.1) (2.10.0)\n",
            "Requirement already satisfied: keras-preprocessing<1.2,>=1.1.1 in /usr/local/lib/python3.7/dist-packages (from tensorflow==2.3.1) (1.1.2)\n",
            "Requirement already satisfied: termcolor>=1.1.0 in /usr/local/lib/python3.7/dist-packages (from tensorflow==2.3.1) (1.1.0)\n",
            "Requirement already satisfied: grpcio>=1.8.6 in /usr/local/lib/python3.7/dist-packages (from tensorflow==2.3.1) (1.41.0)\n",
            "Requirement already satisfied: absl-py>=0.7.0 in /usr/local/lib/python3.7/dist-packages (from tensorflow==2.3.1) (0.12.0)\n",
            "Requirement already satisfied: gast==0.3.3 in /usr/local/lib/python3.7/dist-packages (from tensorflow==2.3.1) (0.3.3)\n",
            "Requirement already satisfied: tensorflow-estimator<2.4.0,>=2.3.0 in /usr/local/lib/python3.7/dist-packages (from tensorflow==2.3.1) (2.3.0)\n",
            "Requirement already satisfied: astunparse==1.6.3 in /usr/local/lib/python3.7/dist-packages (from tensorflow==2.3.1) (1.6.3)\n",
            "Requirement already satisfied: opt-einsum>=2.3.2 in /usr/local/lib/python3.7/dist-packages (from tensorflow==2.3.1) (3.3.0)\n",
            "Requirement already satisfied: numpy<1.19.0,>=1.16.0 in /usr/local/lib/python3.7/dist-packages (from tensorflow==2.3.1) (1.18.5)\n",
            "Requirement already satisfied: tensorboard<3,>=2.3.0 in /usr/local/lib/python3.7/dist-packages (from tensorflow==2.3.1) (2.6.0)\n",
            "Requirement already satisfied: wrapt>=1.11.1 in /usr/local/lib/python3.7/dist-packages (from tensorflow==2.3.1) (1.12.1)\n",
            "Requirement already satisfied: google-pasta>=0.1.8 in /usr/local/lib/python3.7/dist-packages (from tensorflow==2.3.1) (0.2.0)\n",
            "Requirement already satisfied: six>=1.12.0 in /usr/local/lib/python3.7/dist-packages (from tensorflow==2.3.1) (1.15.0)\n",
            "Requirement already satisfied: wheel>=0.26 in /usr/local/lib/python3.7/dist-packages (from tensorflow==2.3.1) (0.37.0)\n",
            "Requirement already satisfied: protobuf>=3.9.2 in /usr/local/lib/python3.7/dist-packages (from tensorflow==2.3.1) (3.12.4)\n",
            "Requirement already satisfied: setuptools in /usr/local/lib/python3.7/dist-packages (from protobuf>=3.9.2->tensorflow==2.3.1) (57.4.0)\n",
            "Requirement already satisfied: werkzeug>=0.11.15 in /usr/local/lib/python3.7/dist-packages (from tensorboard<3,>=2.3.0->tensorflow==2.3.1) (1.0.1)\n",
            "Requirement already satisfied: tensorboard-data-server<0.7.0,>=0.6.0 in /usr/local/lib/python3.7/dist-packages (from tensorboard<3,>=2.3.0->tensorflow==2.3.1) (0.6.1)\n",
            "Requirement already satisfied: markdown>=2.6.8 in /usr/local/lib/python3.7/dist-packages (from tensorboard<3,>=2.3.0->tensorflow==2.3.1) (3.3.4)\n",
            "Requirement already satisfied: requests<3,>=2.21.0 in /usr/local/lib/python3.7/dist-packages (from tensorboard<3,>=2.3.0->tensorflow==2.3.1) (2.23.0)\n",
            "Requirement already satisfied: google-auth<2,>=1.6.3 in /usr/local/lib/python3.7/dist-packages (from tensorboard<3,>=2.3.0->tensorflow==2.3.1) (1.35.0)\n",
            "Requirement already satisfied: tensorboard-plugin-wit>=1.6.0 in /usr/local/lib/python3.7/dist-packages (from tensorboard<3,>=2.3.0->tensorflow==2.3.1) (1.8.0)\n",
            "Requirement already satisfied: google-auth-oauthlib<0.5,>=0.4.1 in /usr/local/lib/python3.7/dist-packages (from tensorboard<3,>=2.3.0->tensorflow==2.3.1) (0.4.6)\n",
            "Requirement already satisfied: cachetools<5.0,>=2.0.0 in /usr/local/lib/python3.7/dist-packages (from google-auth<2,>=1.6.3->tensorboard<3,>=2.3.0->tensorflow==2.3.1) (4.2.4)\n",
            "Requirement already satisfied: pyasn1-modules>=0.2.1 in /usr/local/lib/python3.7/dist-packages (from google-auth<2,>=1.6.3->tensorboard<3,>=2.3.0->tensorflow==2.3.1) (0.2.8)\n",
            "Requirement already satisfied: rsa<5,>=3.1.4 in /usr/local/lib/python3.7/dist-packages (from google-auth<2,>=1.6.3->tensorboard<3,>=2.3.0->tensorflow==2.3.1) (4.7.2)\n",
            "Requirement already satisfied: requests-oauthlib>=0.7.0 in /usr/local/lib/python3.7/dist-packages (from google-auth-oauthlib<0.5,>=0.4.1->tensorboard<3,>=2.3.0->tensorflow==2.3.1) (1.3.0)\n",
            "Requirement already satisfied: importlib-metadata in /usr/local/lib/python3.7/dist-packages (from markdown>=2.6.8->tensorboard<3,>=2.3.0->tensorflow==2.3.1) (4.8.1)\n",
            "Requirement already satisfied: pyasn1<0.5.0,>=0.4.6 in /usr/local/lib/python3.7/dist-packages (from pyasn1-modules>=0.2.1->google-auth<2,>=1.6.3->tensorboard<3,>=2.3.0->tensorflow==2.3.1) (0.4.8)\n",
            "Requirement already satisfied: certifi>=2017.4.17 in /usr/local/lib/python3.7/dist-packages (from requests<3,>=2.21.0->tensorboard<3,>=2.3.0->tensorflow==2.3.1) (2021.5.30)\n",
            "Requirement already satisfied: idna<3,>=2.5 in /usr/local/lib/python3.7/dist-packages (from requests<3,>=2.21.0->tensorboard<3,>=2.3.0->tensorflow==2.3.1) (2.10)\n",
            "Requirement already satisfied: urllib3!=1.25.0,!=1.25.1,<1.26,>=1.21.1 in /usr/local/lib/python3.7/dist-packages (from requests<3,>=2.21.0->tensorboard<3,>=2.3.0->tensorflow==2.3.1) (1.24.3)\n",
            "Requirement already satisfied: chardet<4,>=3.0.2 in /usr/local/lib/python3.7/dist-packages (from requests<3,>=2.21.0->tensorboard<3,>=2.3.0->tensorflow==2.3.1) (3.0.4)\n",
            "Requirement already satisfied: oauthlib>=3.0.0 in /usr/local/lib/python3.7/dist-packages (from requests-oauthlib>=0.7.0->google-auth-oauthlib<0.5,>=0.4.1->tensorboard<3,>=2.3.0->tensorflow==2.3.1) (3.1.1)\n",
            "Requirement already satisfied: zipp>=0.5 in /usr/local/lib/python3.7/dist-packages (from importlib-metadata->markdown>=2.6.8->tensorboard<3,>=2.3.0->tensorflow==2.3.1) (3.6.0)\n",
            "Requirement already satisfied: typing-extensions>=3.6.4 in /usr/local/lib/python3.7/dist-packages (from importlib-metadata->markdown>=2.6.8->tensorboard<3,>=2.3.0->tensorflow==2.3.1) (3.7.4.3)\n",
            "Requirement already satisfied: tensorflow_quantum==0.4.0 in /usr/local/lib/python3.7/dist-packages (0.4.0)\n",
            "Requirement already satisfied: cirq==0.9.1 in /usr/local/lib/python3.7/dist-packages (from tensorflow_quantum==0.4.0) (0.9.1)\n",
            "Requirement already satisfied: sympy==1.5 in /usr/local/lib/python3.7/dist-packages (from tensorflow_quantum==0.4.0) (1.5)\n",
            "Requirement already satisfied: freezegun~=0.3.15 in /usr/local/lib/python3.7/dist-packages (from cirq==0.9.1->tensorflow_quantum==0.4.0) (0.3.15)\n",
            "Requirement already satisfied: pandas in /usr/local/lib/python3.7/dist-packages (from cirq==0.9.1->tensorflow_quantum==0.4.0) (1.1.5)\n",
            "Requirement already satisfied: protobuf~=3.12.0 in /usr/local/lib/python3.7/dist-packages (from cirq==0.9.1->tensorflow_quantum==0.4.0) (3.12.4)\n",
            "Requirement already satisfied: scipy in /usr/local/lib/python3.7/dist-packages (from cirq==0.9.1->tensorflow_quantum==0.4.0) (1.4.1)\n",
            "Requirement already satisfied: networkx~=2.4 in /usr/local/lib/python3.7/dist-packages (from cirq==0.9.1->tensorflow_quantum==0.4.0) (2.6.3)\n",
            "Requirement already satisfied: matplotlib~=3.0 in /usr/local/lib/python3.7/dist-packages (from cirq==0.9.1->tensorflow_quantum==0.4.0) (3.2.2)\n",
            "Requirement already satisfied: google-api-core[grpc]<2.0.0dev,>=1.14.0 in /usr/local/lib/python3.7/dist-packages (from cirq==0.9.1->tensorflow_quantum==0.4.0) (1.26.3)\n",
            "Requirement already satisfied: sortedcontainers~=2.0 in /usr/local/lib/python3.7/dist-packages (from cirq==0.9.1->tensorflow_quantum==0.4.0) (2.4.0)\n",
            "Requirement already satisfied: numpy~=1.16 in /usr/local/lib/python3.7/dist-packages (from cirq==0.9.1->tensorflow_quantum==0.4.0) (1.18.5)\n",
            "Requirement already satisfied: typing-extensions in /usr/local/lib/python3.7/dist-packages (from cirq==0.9.1->tensorflow_quantum==0.4.0) (3.7.4.3)\n",
            "Requirement already satisfied: requests~=2.18 in /usr/local/lib/python3.7/dist-packages (from cirq==0.9.1->tensorflow_quantum==0.4.0) (2.23.0)\n",
            "Requirement already satisfied: mpmath>=0.19 in /usr/local/lib/python3.7/dist-packages (from sympy==1.5->tensorflow_quantum==0.4.0) (1.2.1)\n",
            "Requirement already satisfied: python-dateutil!=2.0,>=1.0 in /usr/local/lib/python3.7/dist-packages (from freezegun~=0.3.15->cirq==0.9.1->tensorflow_quantum==0.4.0) (2.8.2)\n",
            "Requirement already satisfied: six in /usr/local/lib/python3.7/dist-packages (from freezegun~=0.3.15->cirq==0.9.1->tensorflow_quantum==0.4.0) (1.15.0)\n",
            "Requirement already satisfied: setuptools>=40.3.0 in /usr/local/lib/python3.7/dist-packages (from google-api-core[grpc]<2.0.0dev,>=1.14.0->cirq==0.9.1->tensorflow_quantum==0.4.0) (57.4.0)\n",
            "Requirement already satisfied: pytz in /usr/local/lib/python3.7/dist-packages (from google-api-core[grpc]<2.0.0dev,>=1.14.0->cirq==0.9.1->tensorflow_quantum==0.4.0) (2018.9)\n",
            "Requirement already satisfied: packaging>=14.3 in /usr/local/lib/python3.7/dist-packages (from google-api-core[grpc]<2.0.0dev,>=1.14.0->cirq==0.9.1->tensorflow_quantum==0.4.0) (21.0)\n",
            "Requirement already satisfied: google-auth<2.0dev,>=1.21.1 in /usr/local/lib/python3.7/dist-packages (from google-api-core[grpc]<2.0.0dev,>=1.14.0->cirq==0.9.1->tensorflow_quantum==0.4.0) (1.35.0)\n",
            "Requirement already satisfied: googleapis-common-protos<2.0dev,>=1.6.0 in /usr/local/lib/python3.7/dist-packages (from google-api-core[grpc]<2.0.0dev,>=1.14.0->cirq==0.9.1->tensorflow_quantum==0.4.0) (1.53.0)\n",
            "Requirement already satisfied: grpcio<2.0dev,>=1.29.0 in /usr/local/lib/python3.7/dist-packages (from google-api-core[grpc]<2.0.0dev,>=1.14.0->cirq==0.9.1->tensorflow_quantum==0.4.0) (1.41.0)\n",
            "Requirement already satisfied: cachetools<5.0,>=2.0.0 in /usr/local/lib/python3.7/dist-packages (from google-auth<2.0dev,>=1.21.1->google-api-core[grpc]<2.0.0dev,>=1.14.0->cirq==0.9.1->tensorflow_quantum==0.4.0) (4.2.4)\n",
            "Requirement already satisfied: rsa<5,>=3.1.4 in /usr/local/lib/python3.7/dist-packages (from google-auth<2.0dev,>=1.21.1->google-api-core[grpc]<2.0.0dev,>=1.14.0->cirq==0.9.1->tensorflow_quantum==0.4.0) (4.7.2)\n",
            "Requirement already satisfied: pyasn1-modules>=0.2.1 in /usr/local/lib/python3.7/dist-packages (from google-auth<2.0dev,>=1.21.1->google-api-core[grpc]<2.0.0dev,>=1.14.0->cirq==0.9.1->tensorflow_quantum==0.4.0) (0.2.8)\n",
            "Requirement already satisfied: kiwisolver>=1.0.1 in /usr/local/lib/python3.7/dist-packages (from matplotlib~=3.0->cirq==0.9.1->tensorflow_quantum==0.4.0) (1.3.2)\n",
            "Requirement already satisfied: cycler>=0.10 in /usr/local/lib/python3.7/dist-packages (from matplotlib~=3.0->cirq==0.9.1->tensorflow_quantum==0.4.0) (0.10.0)\n",
            "Requirement already satisfied: pyparsing!=2.0.4,!=2.1.2,!=2.1.6,>=2.0.1 in /usr/local/lib/python3.7/dist-packages (from matplotlib~=3.0->cirq==0.9.1->tensorflow_quantum==0.4.0) (2.4.7)\n",
            "Requirement already satisfied: pyasn1<0.5.0,>=0.4.6 in /usr/local/lib/python3.7/dist-packages (from pyasn1-modules>=0.2.1->google-auth<2.0dev,>=1.21.1->google-api-core[grpc]<2.0.0dev,>=1.14.0->cirq==0.9.1->tensorflow_quantum==0.4.0) (0.4.8)\n",
            "Requirement already satisfied: urllib3!=1.25.0,!=1.25.1,<1.26,>=1.21.1 in /usr/local/lib/python3.7/dist-packages (from requests~=2.18->cirq==0.9.1->tensorflow_quantum==0.4.0) (1.24.3)\n",
            "Requirement already satisfied: chardet<4,>=3.0.2 in /usr/local/lib/python3.7/dist-packages (from requests~=2.18->cirq==0.9.1->tensorflow_quantum==0.4.0) (3.0.4)\n",
            "Requirement already satisfied: certifi>=2017.4.17 in /usr/local/lib/python3.7/dist-packages (from requests~=2.18->cirq==0.9.1->tensorflow_quantum==0.4.0) (2021.5.30)\n",
            "Requirement already satisfied: idna<3,>=2.5 in /usr/local/lib/python3.7/dist-packages (from requests~=2.18->cirq==0.9.1->tensorflow_quantum==0.4.0) (2.10)\n",
            "Requirement already satisfied: quple==0.7.8 in /usr/local/lib/python3.7/dist-packages (0.7.8)\n",
            "Requirement already satisfied: cirq in /usr/local/lib/python3.7/dist-packages (from quple==0.7.8) (0.9.1)\n",
            "Requirement already satisfied: numpy in /usr/local/lib/python3.7/dist-packages (from quple==0.7.8) (1.18.5)\n",
            "Requirement already satisfied: tensorflow==2.3.1 in /usr/local/lib/python3.7/dist-packages (from quple==0.7.8) (2.3.1)\n",
            "Requirement already satisfied: tensorflow-quantum==0.4.0 in /usr/local/lib/python3.7/dist-packages (from quple==0.7.8) (0.4.0)\n",
            "Requirement already satisfied: astunparse==1.6.3 in /usr/local/lib/python3.7/dist-packages (from tensorflow==2.3.1->quple==0.7.8) (1.6.3)\n",
            "Requirement already satisfied: protobuf>=3.9.2 in /usr/local/lib/python3.7/dist-packages (from tensorflow==2.3.1->quple==0.7.8) (3.12.4)\n",
            "Requirement already satisfied: h5py<2.11.0,>=2.10.0 in /usr/local/lib/python3.7/dist-packages (from tensorflow==2.3.1->quple==0.7.8) (2.10.0)\n",
            "Requirement already satisfied: absl-py>=0.7.0 in /usr/local/lib/python3.7/dist-packages (from tensorflow==2.3.1->quple==0.7.8) (0.12.0)\n",
            "Requirement already satisfied: termcolor>=1.1.0 in /usr/local/lib/python3.7/dist-packages (from tensorflow==2.3.1->quple==0.7.8) (1.1.0)\n",
            "Requirement already satisfied: wrapt>=1.11.1 in /usr/local/lib/python3.7/dist-packages (from tensorflow==2.3.1->quple==0.7.8) (1.12.1)\n",
            "Requirement already satisfied: keras-preprocessing<1.2,>=1.1.1 in /usr/local/lib/python3.7/dist-packages (from tensorflow==2.3.1->quple==0.7.8) (1.1.2)\n",
            "Requirement already satisfied: opt-einsum>=2.3.2 in /usr/local/lib/python3.7/dist-packages (from tensorflow==2.3.1->quple==0.7.8) (3.3.0)\n",
            "Requirement already satisfied: tensorflow-estimator<2.4.0,>=2.3.0 in /usr/local/lib/python3.7/dist-packages (from tensorflow==2.3.1->quple==0.7.8) (2.3.0)\n",
            "Requirement already satisfied: six>=1.12.0 in /usr/local/lib/python3.7/dist-packages (from tensorflow==2.3.1->quple==0.7.8) (1.15.0)\n",
            "Requirement already satisfied: grpcio>=1.8.6 in /usr/local/lib/python3.7/dist-packages (from tensorflow==2.3.1->quple==0.7.8) (1.41.0)\n",
            "Requirement already satisfied: wheel>=0.26 in /usr/local/lib/python3.7/dist-packages (from tensorflow==2.3.1->quple==0.7.8) (0.37.0)\n",
            "Requirement already satisfied: gast==0.3.3 in /usr/local/lib/python3.7/dist-packages (from tensorflow==2.3.1->quple==0.7.8) (0.3.3)\n",
            "Requirement already satisfied: tensorboard<3,>=2.3.0 in /usr/local/lib/python3.7/dist-packages (from tensorflow==2.3.1->quple==0.7.8) (2.6.0)\n",
            "Requirement already satisfied: google-pasta>=0.1.8 in /usr/local/lib/python3.7/dist-packages (from tensorflow==2.3.1->quple==0.7.8) (0.2.0)\n",
            "Requirement already satisfied: sympy==1.5 in /usr/local/lib/python3.7/dist-packages (from tensorflow-quantum==0.4.0->quple==0.7.8) (1.5)\n",
            "Requirement already satisfied: pandas in /usr/local/lib/python3.7/dist-packages (from cirq->quple==0.7.8) (1.1.5)\n",
            "Requirement already satisfied: networkx~=2.4 in /usr/local/lib/python3.7/dist-packages (from cirq->quple==0.7.8) (2.6.3)\n",
            "Requirement already satisfied: sortedcontainers~=2.0 in /usr/local/lib/python3.7/dist-packages (from cirq->quple==0.7.8) (2.4.0)\n",
            "Requirement already satisfied: typing-extensions in /usr/local/lib/python3.7/dist-packages (from cirq->quple==0.7.8) (3.7.4.3)\n",
            "Requirement already satisfied: google-api-core[grpc]<2.0.0dev,>=1.14.0 in /usr/local/lib/python3.7/dist-packages (from cirq->quple==0.7.8) (1.26.3)\n",
            "Requirement already satisfied: requests~=2.18 in /usr/local/lib/python3.7/dist-packages (from cirq->quple==0.7.8) (2.23.0)\n",
            "Requirement already satisfied: matplotlib~=3.0 in /usr/local/lib/python3.7/dist-packages (from cirq->quple==0.7.8) (3.2.2)\n",
            "Requirement already satisfied: freezegun~=0.3.15 in /usr/local/lib/python3.7/dist-packages (from cirq->quple==0.7.8) (0.3.15)\n",
            "Requirement already satisfied: scipy in /usr/local/lib/python3.7/dist-packages (from cirq->quple==0.7.8) (1.4.1)\n",
            "Requirement already satisfied: mpmath>=0.19 in /usr/local/lib/python3.7/dist-packages (from sympy==1.5->tensorflow-quantum==0.4.0->quple==0.7.8) (1.2.1)\n",
            "Requirement already satisfied: python-dateutil!=2.0,>=1.0 in /usr/local/lib/python3.7/dist-packages (from freezegun~=0.3.15->cirq->quple==0.7.8) (2.8.2)\n",
            "Requirement already satisfied: pytz in /usr/local/lib/python3.7/dist-packages (from google-api-core[grpc]<2.0.0dev,>=1.14.0->cirq->quple==0.7.8) (2018.9)\n",
            "Requirement already satisfied: google-auth<2.0dev,>=1.21.1 in /usr/local/lib/python3.7/dist-packages (from google-api-core[grpc]<2.0.0dev,>=1.14.0->cirq->quple==0.7.8) (1.35.0)\n",
            "Requirement already satisfied: packaging>=14.3 in /usr/local/lib/python3.7/dist-packages (from google-api-core[grpc]<2.0.0dev,>=1.14.0->cirq->quple==0.7.8) (21.0)\n",
            "Requirement already satisfied: googleapis-common-protos<2.0dev,>=1.6.0 in /usr/local/lib/python3.7/dist-packages (from google-api-core[grpc]<2.0.0dev,>=1.14.0->cirq->quple==0.7.8) (1.53.0)\n",
            "Requirement already satisfied: setuptools>=40.3.0 in /usr/local/lib/python3.7/dist-packages (from google-api-core[grpc]<2.0.0dev,>=1.14.0->cirq->quple==0.7.8) (57.4.0)\n",
            "Requirement already satisfied: rsa<5,>=3.1.4 in /usr/local/lib/python3.7/dist-packages (from google-auth<2.0dev,>=1.21.1->google-api-core[grpc]<2.0.0dev,>=1.14.0->cirq->quple==0.7.8) (4.7.2)\n",
            "Requirement already satisfied: cachetools<5.0,>=2.0.0 in /usr/local/lib/python3.7/dist-packages (from google-auth<2.0dev,>=1.21.1->google-api-core[grpc]<2.0.0dev,>=1.14.0->cirq->quple==0.7.8) (4.2.4)\n",
            "Requirement already satisfied: pyasn1-modules>=0.2.1 in /usr/local/lib/python3.7/dist-packages (from google-auth<2.0dev,>=1.21.1->google-api-core[grpc]<2.0.0dev,>=1.14.0->cirq->quple==0.7.8) (0.2.8)\n",
            "Requirement already satisfied: cycler>=0.10 in /usr/local/lib/python3.7/dist-packages (from matplotlib~=3.0->cirq->quple==0.7.8) (0.10.0)\n",
            "Requirement already satisfied: pyparsing!=2.0.4,!=2.1.2,!=2.1.6,>=2.0.1 in /usr/local/lib/python3.7/dist-packages (from matplotlib~=3.0->cirq->quple==0.7.8) (2.4.7)\n",
            "Requirement already satisfied: kiwisolver>=1.0.1 in /usr/local/lib/python3.7/dist-packages (from matplotlib~=3.0->cirq->quple==0.7.8) (1.3.2)\n",
            "Requirement already satisfied: pyasn1<0.5.0,>=0.4.6 in /usr/local/lib/python3.7/dist-packages (from pyasn1-modules>=0.2.1->google-auth<2.0dev,>=1.21.1->google-api-core[grpc]<2.0.0dev,>=1.14.0->cirq->quple==0.7.8) (0.4.8)\n",
            "Requirement already satisfied: idna<3,>=2.5 in /usr/local/lib/python3.7/dist-packages (from requests~=2.18->cirq->quple==0.7.8) (2.10)\n",
            "Requirement already satisfied: urllib3!=1.25.0,!=1.25.1,<1.26,>=1.21.1 in /usr/local/lib/python3.7/dist-packages (from requests~=2.18->cirq->quple==0.7.8) (1.24.3)\n",
            "Requirement already satisfied: chardet<4,>=3.0.2 in /usr/local/lib/python3.7/dist-packages (from requests~=2.18->cirq->quple==0.7.8) (3.0.4)\n",
            "Requirement already satisfied: certifi>=2017.4.17 in /usr/local/lib/python3.7/dist-packages (from requests~=2.18->cirq->quple==0.7.8) (2021.5.30)\n",
            "Requirement already satisfied: tensorboard-data-server<0.7.0,>=0.6.0 in /usr/local/lib/python3.7/dist-packages (from tensorboard<3,>=2.3.0->tensorflow==2.3.1->quple==0.7.8) (0.6.1)\n",
            "Requirement already satisfied: google-auth-oauthlib<0.5,>=0.4.1 in /usr/local/lib/python3.7/dist-packages (from tensorboard<3,>=2.3.0->tensorflow==2.3.1->quple==0.7.8) (0.4.6)\n",
            "Requirement already satisfied: werkzeug>=0.11.15 in /usr/local/lib/python3.7/dist-packages (from tensorboard<3,>=2.3.0->tensorflow==2.3.1->quple==0.7.8) (1.0.1)\n",
            "Requirement already satisfied: markdown>=2.6.8 in /usr/local/lib/python3.7/dist-packages (from tensorboard<3,>=2.3.0->tensorflow==2.3.1->quple==0.7.8) (3.3.4)\n",
            "Requirement already satisfied: tensorboard-plugin-wit>=1.6.0 in /usr/local/lib/python3.7/dist-packages (from tensorboard<3,>=2.3.0->tensorflow==2.3.1->quple==0.7.8) (1.8.0)\n",
            "Requirement already satisfied: requests-oauthlib>=0.7.0 in /usr/local/lib/python3.7/dist-packages (from google-auth-oauthlib<0.5,>=0.4.1->tensorboard<3,>=2.3.0->tensorflow==2.3.1->quple==0.7.8) (1.3.0)\n",
            "Requirement already satisfied: importlib-metadata in /usr/local/lib/python3.7/dist-packages (from markdown>=2.6.8->tensorboard<3,>=2.3.0->tensorflow==2.3.1->quple==0.7.8) (4.8.1)\n",
            "Requirement already satisfied: oauthlib>=3.0.0 in /usr/local/lib/python3.7/dist-packages (from requests-oauthlib>=0.7.0->google-auth-oauthlib<0.5,>=0.4.1->tensorboard<3,>=2.3.0->tensorflow==2.3.1->quple==0.7.8) (3.1.1)\n",
            "Requirement already satisfied: zipp>=0.5 in /usr/local/lib/python3.7/dist-packages (from importlib-metadata->markdown>=2.6.8->tensorboard<3,>=2.3.0->tensorflow==2.3.1->quple==0.7.8) (3.6.0)\n"
          ]
        }
      ]
    },
    {
      "cell_type": "markdown",
      "metadata": {
        "id": "inclusive-delta"
      },
      "source": [
        "# Tutorial-01 Quantum Circuit\n",
        "\n",
        "In this tutorial, you will learn how to:\n",
        "\n",
        "- Create a quantum circuit with customizable qubit layout\n",
        "- Apply gate operations on specific set of qubits for a given circuit\n",
        "- Parameterise a gate operation and resolve the parameters with custom input values\n",
        "- Circuit simulation: statevector simulation and expectation simulation"
      ],
      "id": "inclusive-delta"
    },
    {
      "cell_type": "code",
      "metadata": {
        "id": "arranged-wireless"
      },
      "source": [
        "import cirq\n",
        "import numpy as np\n",
        "import sympy as sp\n",
        "import quple"
      ],
      "id": "arranged-wireless",
      "execution_count": 2,
      "outputs": []
    },
    {
      "cell_type": "markdown",
      "metadata": {
        "id": "optical-advocacy"
      },
      "source": [
        "## Create Quantum Circuits\n",
        "\n",
        "- In quple, a base class for building quantum circuit is `quple.QuantumCircuit` which is derived from the `cirq.Circuits` class. So any methods applicable to `cirq.Circuits` can also be applied to `quple.QuantumCircuit`.\n",
        "- The `QuantumCircuit` class accepts the following arguments:\n",
        " - `n_qubit`: If int, it specifies the number of qubits in the circuit.\\\n",
        " If iterable of cirq.GridQubit object, it specifies the exact qubit layout of the circuit. \n",
        " - `name`: Name of the circuit\n",
        " - `insert_strategy`: The insertion strategy of gate operations in the circuit. Default is cirq.circuits.InsertStrategy.INLINE\n",
        " - `backend`: The backend for circuit simulation. If None, defaults to the native TensorFlow simulator"
      ],
      "id": "optical-advocacy"
    },
    {
      "cell_type": "code",
      "metadata": {
        "id": "supported-jurisdiction"
      },
      "source": [
        "from quple import QuantumCircuit"
      ],
      "id": "supported-jurisdiction",
      "execution_count": 3,
      "outputs": []
    },
    {
      "cell_type": "code",
      "metadata": {
        "id": "beautiful-license",
        "colab": {
          "base_uri": "https://localhost:8080/"
        },
        "outputId": "e4cb1d6a-f756-4e7c-ca85-bc5a362209d8"
      },
      "source": [
        "cq = QuantumCircuit(n_qubit=5, name='line_qubit_layout')\n",
        "print('Qubit layout for the circuit \"{}\":'.format(cq.name))\n",
        "# by default, a line qubit layout is used\n",
        "cq.qubits"
      ],
      "id": "beautiful-license",
      "execution_count": 4,
      "outputs": [
        {
          "output_type": "stream",
          "name": "stdout",
          "text": [
            "Qubit layout for the circuit \"line_qubit_layout\":\n"
          ]
        },
        {
          "output_type": "execute_result",
          "data": {
            "text/plain": [
              "[cirq.GridQubit(0, 0),\n",
              " cirq.GridQubit(0, 1),\n",
              " cirq.GridQubit(0, 2),\n",
              " cirq.GridQubit(0, 3),\n",
              " cirq.GridQubit(0, 4)]"
            ]
          },
          "metadata": {},
          "execution_count": 4
        }
      ]
    },
    {
      "cell_type": "code",
      "metadata": {
        "id": "virgin-captain",
        "colab": {
          "base_uri": "https://localhost:8080/"
        },
        "outputId": "29500677-5abe-4400-9632-686807b8a12f"
      },
      "source": [
        "# now let's try a square grid qubit layout\n",
        "qubits = cirq.GridQubit.rect(3, 3)\n",
        "cq_2 = QuantumCircuit(n_qubit=qubits, name='square_qubit_layout')\n",
        "print('Qubit layout for the circuit \"{}\":'.format(cq_2.name))\n",
        "# by default, a line qubit layout is used\n",
        "cq_2.qubits"
      ],
      "id": "virgin-captain",
      "execution_count": 5,
      "outputs": [
        {
          "output_type": "stream",
          "name": "stdout",
          "text": [
            "Qubit layout for the circuit \"square_qubit_layout\":\n"
          ]
        },
        {
          "output_type": "execute_result",
          "data": {
            "text/plain": [
              "[cirq.GridQubit(0, 0),\n",
              " cirq.GridQubit(0, 1),\n",
              " cirq.GridQubit(0, 2),\n",
              " cirq.GridQubit(1, 0),\n",
              " cirq.GridQubit(1, 1),\n",
              " cirq.GridQubit(1, 2),\n",
              " cirq.GridQubit(2, 0),\n",
              " cirq.GridQubit(2, 1),\n",
              " cirq.GridQubit(2, 2)]"
            ]
          },
          "metadata": {},
          "execution_count": 5
        }
      ]
    },
    {
      "cell_type": "markdown",
      "metadata": {
        "id": "vertical-nutrition"
      },
      "source": [
        "## Apply gate operations\n",
        "\n",
        "- `QuantumCircuit` allows for easy application of gate operations with the following features:\n",
        " - Most gate operations are appened to the `QuantumCircuit` class methods. The gate operation can also be accessed by specifying its corresponding string representation.\n",
        " - Evey qubit in the circuit is represented by an index. So the target qubit(s) of a gate operation can be specified purely by the qubits' numeric indices. "
      ],
      "id": "vertical-nutrition"
    },
    {
      "cell_type": "markdown",
      "metadata": {
        "id": "unlike-symposium"
      },
      "source": [
        "### Construction of the quantum circuit for a Bell state"
      ],
      "id": "unlike-symposium"
    },
    {
      "cell_type": "code",
      "metadata": {
        "id": "parallel-phase",
        "colab": {
          "base_uri": "https://localhost:8080/",
          "height": 68
        },
        "outputId": "c1454904-5a68-4985-adc1-6634466fbde3"
      },
      "source": [
        "# Creates a circuit with 2 qubits\n",
        "cq = QuantumCircuit(2, name='BellCircuit')\n",
        "# Apply the Hadamard gate to the qubit with index 0 \n",
        "cq.H(0)\n",
        "# Apply the CNOT gate to qubits with indices 0 and 1\n",
        "# with the first one being the control qubit\n",
        "cq.CNOT((0,1))\n",
        "# Print out the circuit diagram\n",
        "cq"
      ],
      "id": "parallel-phase",
      "execution_count": 6,
      "outputs": [
        {
          "output_type": "execute_result",
          "data": {
            "text/html": [
              "<pre style=\"overflow: auto; white-space: pre;\">(0, 0): ───H───@───\n",
              "               │\n",
              "(0, 1): ───────X───</pre>"
            ],
            "text/plain": [
              "(0, 0): ───H───@───\n",
              "               │\n",
              "(0, 1): ───────X───"
            ]
          },
          "metadata": {},
          "execution_count": 6
        }
      ]
    },
    {
      "cell_type": "markdown",
      "metadata": {
        "id": "dying-struggle"
      },
      "source": [
        "### Construction of a more complicated quantum circuit"
      ],
      "id": "dying-struggle"
    },
    {
      "cell_type": "code",
      "metadata": {
        "id": "binding-catch",
        "colab": {
          "base_uri": "https://localhost:8080/",
          "height": 170
        },
        "outputId": "17d0a52f-746a-47c6-f979-bb445f546ea7"
      },
      "source": [
        "# Creates a circuit with 5 qubits\n",
        "cq = QuantumCircuit(5)\n",
        "# Apply the Hadamard gate to all qubits\n",
        "cq.H(cq.qubits)\n",
        "# Apply the RZ gates to qubits 2,3 and 4 with a rotation angle of pi/4 \n",
        "cq.RZ(sp.pi/4, cq.qubits[2:5])\n",
        "# to make the circuit diagram looks less tangled for 2-qubit gates use the NEW insert strategy instead\n",
        "cq.set_insert_strategy(cirq.circuits.InsertStrategy.NEW)\n",
        "# Apply the CNOT gates to the qubit pairs (0, 1), (1, 3), (2, 4)\n",
        "cq.CNOT([(0, 1), (1, 3), (2,4)])\n",
        "# Print out the circuit diagram\n",
        "cq"
      ],
      "id": "binding-catch",
      "execution_count": 9,
      "outputs": [
        {
          "output_type": "execute_result",
          "data": {
            "text/html": [
              "<pre style=\"overflow: auto; white-space: pre;\">(0, 0): ───H──────────────@───────────\n",
              "                          │\n",
              "(0, 1): ───H──────────────X───@───────\n",
              "                              │\n",
              "(0, 2): ───H───Rz(pi/4)───────┼───@───\n",
              "                              │   │\n",
              "(0, 3): ───H───Rz(pi/4)───────X───┼───\n",
              "                                  │\n",
              "(0, 4): ───H───Rz(pi/4)───────────X───</pre>"
            ],
            "text/plain": [
              "(0, 0): ───H──────────────@───────────\n",
              "                          │\n",
              "(0, 1): ───H──────────────X───@───────\n",
              "                              │\n",
              "(0, 2): ───H───Rz(pi/4)───────┼───@───\n",
              "                              │   │\n",
              "(0, 3): ───H───Rz(pi/4)───────X───┼───\n",
              "                                  │\n",
              "(0, 4): ───H───Rz(pi/4)───────────X───"
            ]
          },
          "metadata": {},
          "execution_count": 9
        }
      ]
    },
    {
      "cell_type": "markdown",
      "metadata": {
        "id": "legal-basketball"
      },
      "source": [
        "Another approach to applying gate operation to a quantum circuit is via the `appply_gate_operation` method\n",
        "\n",
        "The arguments are:\n",
        "\n",
        "apply_gate_operation(operation:[str, cirq.Gate], qubit_expr, params=None)"
      ],
      "id": "legal-basketball"
    },
    {
      "cell_type": "code",
      "metadata": {
        "id": "narrative-virgin",
        "colab": {
          "base_uri": "https://localhost:8080/",
          "height": 170
        },
        "outputId": "596a2de0-4c36-4752-f7c6-7c8d6f555725"
      },
      "source": [
        "# Creates a circuit with 5 qubits\n",
        "cq = QuantumCircuit(5)\n",
        "# Apply the Hadamard gate to all qubits\n",
        "cq.apply_gate_operation('H', cq.qubits)\n",
        "# Apply the RZ gates to qubits 2,3 and 4 with a rotation angle of pi/4 \n",
        "cq.apply_gate_operation('RZ', cq.qubits[2:5], {'rads': sp.pi/4})\n",
        "# to make the circuit diagram looks less tangled for 2-qubit gates use the NEW insert strategy instead\n",
        "cq.set_insert_strategy(cirq.circuits.InsertStrategy.NEW)\n",
        "# Apply the CNOT gate to the qubit pairs (0, 1), (1, 3), (2, 4)\n",
        "cq.apply_gate_operation('CNOT', [(0, 1), (1, 3), (2,4)])\n",
        "# Apply the SWAP gate to the qubit pairs (3,4)\n",
        "cq.apply_gate_operation('SWAP', (3,4))\n",
        "# Print out the circuit diagram\n",
        "cq"
      ],
      "id": "narrative-virgin",
      "execution_count": 10,
      "outputs": [
        {
          "output_type": "execute_result",
          "data": {
            "text/html": [
              "<pre style=\"overflow: auto; white-space: pre;\">(0, 0): ───H──────────────@───────────────\n",
              "                          │\n",
              "(0, 1): ───H──────────────X───@───────────\n",
              "                              │\n",
              "(0, 2): ───H───Rz(pi/4)───────┼───@───────\n",
              "                              │   │\n",
              "(0, 3): ───H───Rz(pi/4)───────X───┼───×───\n",
              "                                  │   │\n",
              "(0, 4): ───H───Rz(pi/4)───────────X───×───</pre>"
            ],
            "text/plain": [
              "(0, 0): ───H──────────────@───────────────\n",
              "                          │\n",
              "(0, 1): ───H──────────────X───@───────────\n",
              "                              │\n",
              "(0, 2): ───H───Rz(pi/4)───────┼───@───────\n",
              "                              │   │\n",
              "(0, 3): ───H───Rz(pi/4)───────X───┼───×───\n",
              "                                  │   │\n",
              "(0, 4): ───H───Rz(pi/4)───────────X───×───"
            ]
          },
          "metadata": {},
          "execution_count": 10
        }
      ]
    },
    {
      "cell_type": "code",
      "metadata": {
        "id": "parallel-coupon",
        "colab": {
          "base_uri": "https://localhost:8080/"
        },
        "outputId": "819723d8-8568-4c9e-e443-2df1d3ae3788"
      },
      "source": [
        "# to check the list of mapping from string to gate operations:\n",
        "from quple.circuits.quantum_circuit import kGateMapping\n",
        "kGateMapping"
      ],
      "id": "parallel-coupon",
      "execution_count": 11,
      "outputs": [
        {
          "output_type": "execute_result",
          "data": {
            "text/plain": [
              "{'CCNOT': cirq.TOFFOLI,\n",
              " 'CCX': cirq.TOFFOLI,\n",
              " 'CNOT': cirq.CNOT,\n",
              " 'CNOTPowGate': cirq.ops.common_gates.CXPowGate,\n",
              " 'CSWAP': cirq.FREDKIN,\n",
              " 'CX': cirq.CNOT,\n",
              " 'CXPowGate': cirq.ops.common_gates.CXPowGate,\n",
              " 'CZ': cirq.CZ,\n",
              " 'CZPowGate': cirq.ops.common_gates.CZPowGate,\n",
              " 'FSim': cirq.ops.fsim_gate.FSimGate,\n",
              " 'Fredkin': cirq.FREDKIN,\n",
              " 'H': cirq.H,\n",
              " 'I': cirq.I,\n",
              " 'ISWAP': cirq.ISWAP,\n",
              " 'MS': <function cirq.ion.ion_gates.ms>,\n",
              " 'PauliRotation': quple.components.gate_ops.PauliRotation,\n",
              " 'PauliX': cirq.X,\n",
              " 'PauliY': cirq.Y,\n",
              " 'PauliZ': cirq.Z,\n",
              " 'RISWAP': <function cirq.ops.swap_gates.riswap>,\n",
              " 'RX': <function cirq.ops.common_gates.rx>,\n",
              " 'RXX': <function quple.components.gate_ops.RXX>,\n",
              " 'RY': <function cirq.ops.common_gates.ry>,\n",
              " 'RYY': <function quple.components.gate_ops.RYY>,\n",
              " 'RZ': <function cirq.ops.common_gates.rz>,\n",
              " 'RZZ': <function quple.components.gate_ops.RZZ>,\n",
              " 'S': cirq.S,\n",
              " 'SWAP': cirq.SWAP,\n",
              " 'T': cirq.T,\n",
              " 'Toffoli': cirq.TOFFOLI,\n",
              " 'X': cirq.X,\n",
              " 'XPowGate': cirq.ops.common_gates.XPowGate,\n",
              " 'XX': cirq.XX,\n",
              " 'XXPowGate': cirq.ops.parity_gates.XXPowGate,\n",
              " 'Y': cirq.Y,\n",
              " 'YPowGate': cirq.ops.common_gates.YPowGate,\n",
              " 'YY': cirq.YY,\n",
              " 'YYPowGate': cirq.ops.parity_gates.YYPowGate,\n",
              " 'Z': cirq.Z,\n",
              " 'ZPowGate': cirq.ops.common_gates.ZPowGate,\n",
              " 'ZZ': cirq.ZZ,\n",
              " 'ZZPowGate': cirq.ops.parity_gates.ZZPowGate}"
            ]
          },
          "metadata": {},
          "execution_count": 11
        }
      ]
    },
    {
      "cell_type": "markdown",
      "metadata": {
        "id": "talented-difference"
      },
      "source": [
        "### Appending circuits/ Combining circuits"
      ],
      "id": "talented-difference"
    },
    {
      "cell_type": "code",
      "metadata": {
        "id": "cosmetic-hampshire",
        "colab": {
          "base_uri": "https://localhost:8080/"
        },
        "outputId": "fa783dd0-0129-49d1-a408-2302592c373c"
      },
      "source": [
        "# create two circuits with 3 qubits\n",
        "cq_1 = QuantumCircuit(3)\n",
        "cq_1.H(cq_1.qubits)\n",
        "cq_2 = QuantumCircuit(3)\n",
        "cq_2.X(cq_1.qubits)\n",
        "print('circuit 1:')\n",
        "print(cq_1)\n",
        "print()\n",
        "print('circuit 2:')\n",
        "print(cq_2)"
      ],
      "id": "cosmetic-hampshire",
      "execution_count": 12,
      "outputs": [
        {
          "output_type": "stream",
          "name": "stdout",
          "text": [
            "circuit 1:\n",
            "(0, 0): ───H───\n",
            "\n",
            "(0, 1): ───H───\n",
            "\n",
            "(0, 2): ───H───\n",
            "\n",
            "circuit 2:\n",
            "(0, 0): ───X───\n",
            "\n",
            "(0, 1): ───X───\n",
            "\n",
            "(0, 2): ───X───\n"
          ]
        }
      ]
    },
    {
      "cell_type": "code",
      "metadata": {
        "id": "limited-navigation",
        "colab": {
          "base_uri": "https://localhost:8080/",
          "height": 102
        },
        "outputId": "387923e3-9f99-4ab4-96d9-ed96216034b3"
      },
      "source": [
        "# create a third circuit that is a combination of the above two circuits\n",
        "cq_3 = cq_1 + cq_2\n",
        "cq_3"
      ],
      "id": "limited-navigation",
      "execution_count": 13,
      "outputs": [
        {
          "output_type": "execute_result",
          "data": {
            "text/html": [
              "<pre style=\"overflow: auto; white-space: pre;\">(0, 0): ───H───X───\n",
              "\n",
              "(0, 1): ───H───X───\n",
              "\n",
              "(0, 2): ───H───X───</pre>"
            ],
            "text/plain": [
              "(0, 0): ───H───X───\n",
              "\n",
              "(0, 1): ───H───X───\n",
              "\n",
              "(0, 2): ───H───X───"
            ]
          },
          "metadata": {},
          "execution_count": 13
        }
      ]
    },
    {
      "cell_type": "code",
      "metadata": {
        "id": "compact-nutrition",
        "colab": {
          "base_uri": "https://localhost:8080/",
          "height": 102
        },
        "outputId": "a61154e7-d00f-4af5-bd47-1f63437738d0"
      },
      "source": [
        "# alternatively, append the 2nd circuit to the 1st in place\n",
        "cq_1 += cq_2\n",
        "cq_1"
      ],
      "id": "compact-nutrition",
      "execution_count": 14,
      "outputs": [
        {
          "output_type": "execute_result",
          "data": {
            "text/html": [
              "<pre style=\"overflow: auto; white-space: pre;\">(0, 0): ───H───X───\n",
              "\n",
              "(0, 1): ───H───X───\n",
              "\n",
              "(0, 2): ───H───X───</pre>"
            ],
            "text/plain": [
              "(0, 0): ───H───X───\n",
              "\n",
              "(0, 1): ───H───X───\n",
              "\n",
              "(0, 2): ───H───X───"
            ]
          },
          "metadata": {},
          "execution_count": 14
        }
      ]
    },
    {
      "cell_type": "markdown",
      "metadata": {
        "id": "exciting-remedy"
      },
      "source": [
        "## Parameterise a gate operation"
      ],
      "id": "exciting-remedy"
    },
    {
      "cell_type": "code",
      "metadata": {
        "id": "pregnant-passion",
        "colab": {
          "base_uri": "https://localhost:8080/",
          "height": 68
        },
        "outputId": "cf7f0dda-1d5e-4855-829a-9ea72dfb2087"
      },
      "source": [
        "# Creates a circuit with 2 qubits\n",
        "cq = QuantumCircuit(2)\n",
        "# Parameterize the angle of an RZ operation on qubit 0 by \"theta_0\"\n",
        "theta_0 = sp.Symbol('θ_0')\n",
        "cq.RZ(theta_0, 0)\n",
        "# Parameterize the angle of an RZ operation on qubit 1 by \"theta_1\"\n",
        "theta_1 = sp.Symbol('θ_1')\n",
        "cq.RZ(theta_1, 1)\n",
        "# Parameterize the angle of an RZZ operation on the qubit pair (0, 1) with qubit 1 being the target qubit by \"theta_0*theta_1\"\n",
        "cq.PauliRotation('ZZ', theta_0*theta_1, (0, 1))\n",
        "cq"
      ],
      "id": "pregnant-passion",
      "execution_count": 15,
      "outputs": [
        {
          "output_type": "execute_result",
          "data": {
            "text/html": [
              "<pre style=\"overflow: auto; white-space: pre;\">(0, 0): ───Rz(θ_0)───@─────────────────@───\n",
              "                     │                 │\n",
              "(0, 1): ───Rz(θ_1)───X───Rz(θ_0*θ_1)───X───</pre>"
            ],
            "text/plain": [
              "(0, 0): ───Rz(θ_0)───@─────────────────@───\n",
              "                     │                 │\n",
              "(0, 1): ───Rz(θ_1)───X───Rz(θ_0*θ_1)───X───"
            ]
          },
          "metadata": {},
          "execution_count": 15
        }
      ]
    },
    {
      "cell_type": "code",
      "metadata": {
        "id": "qualified-tobacco",
        "colab": {
          "base_uri": "https://localhost:8080/"
        },
        "outputId": "9c614635-595c-422f-9803-9eeaca16c1ec"
      },
      "source": [
        "#check the circuit symbols\n",
        "cq.symbols"
      ],
      "id": "qualified-tobacco",
      "execution_count": 16,
      "outputs": [
        {
          "output_type": "execute_result",
          "data": {
            "text/plain": [
              "['θ_0', 'θ_1']"
            ]
          },
          "metadata": {},
          "execution_count": 16
        }
      ]
    },
    {
      "cell_type": "markdown",
      "metadata": {
        "id": "compressed-receiver"
      },
      "source": [
        "### Circuit flattening\n",
        "\n",
        "To more efficiently resolve parameter symbols to specified values for a complicated circuits, it is better to flatten the circuit so that each \"expression\" in a gate operation is regarded as an independent symbol"
      ],
      "id": "compressed-receiver"
    },
    {
      "cell_type": "code",
      "metadata": {
        "id": "diverse-shannon",
        "colab": {
          "base_uri": "https://localhost:8080/",
          "height": 68
        },
        "outputId": "6c4b6107-cd26-4d5e-ad76-454207740bd3"
      },
      "source": [
        "# flatten the circuit\n",
        "cq.flatten()\n",
        "cq"
      ],
      "id": "diverse-shannon",
      "execution_count": 17,
      "outputs": [
        {
          "output_type": "execute_result",
          "data": {
            "text/html": [
              "<pre style=\"overflow: auto; white-space: pre;\">(0, 0): ───Rz(pi*&lt;θ_0/pi&gt;)───@─────────────────────────@───\n",
              "                             │                         │\n",
              "(0, 1): ───Rz(pi*&lt;θ_1/pi&gt;)───X───Rz(pi*&lt;θ_0*θ_1/pi&gt;)───X───</pre>"
            ],
            "text/plain": [
              "(0, 0): ───Rz(pi*<θ_0/pi>)───@─────────────────────────@───\n",
              "                             │                         │\n",
              "(0, 1): ───Rz(pi*<θ_1/pi>)───X───Rz(pi*<θ_0*θ_1/pi>)───X───"
            ]
          },
          "metadata": {},
          "execution_count": 17
        }
      ]
    },
    {
      "cell_type": "code",
      "metadata": {
        "id": "proud-navigation",
        "colab": {
          "base_uri": "https://localhost:8080/"
        },
        "outputId": "06b50564-b6cf-4e57-da9d-bef96a026992"
      },
      "source": [
        "# now check the symbols again\n",
        "cq.symbols"
      ],
      "id": "proud-navigation",
      "execution_count": 18,
      "outputs": [
        {
          "output_type": "execute_result",
          "data": {
            "text/plain": [
              "['<θ_0*θ_1/pi>', '<θ_0/pi>', '<θ_1/pi>']"
            ]
          },
          "metadata": {},
          "execution_count": 18
        }
      ]
    },
    {
      "cell_type": "code",
      "metadata": {
        "id": "brazilian-jason",
        "colab": {
          "base_uri": "https://localhost:8080/"
        },
        "outputId": "333e7152-705a-41a1-b807-4ffa6b0f2732"
      },
      "source": [
        "# get get the original symbols after flattening:\n",
        "cq.raw_symbols"
      ],
      "id": "brazilian-jason",
      "execution_count": 19,
      "outputs": [
        {
          "output_type": "execute_result",
          "data": {
            "text/plain": [
              "['θ_0', 'θ_1']"
            ]
          },
          "metadata": {},
          "execution_count": 19
        }
      ]
    },
    {
      "cell_type": "code",
      "metadata": {
        "id": "opposite-solution",
        "colab": {
          "base_uri": "https://localhost:8080/",
          "height": 68
        },
        "outputId": "d7e7aef9-dfb5-42e1-a6ad-48a2c7ead8f7"
      },
      "source": [
        "# unflatten the circuit\n",
        "cq.unflatten()\n",
        "cq"
      ],
      "id": "opposite-solution",
      "execution_count": 20,
      "outputs": [
        {
          "output_type": "execute_result",
          "data": {
            "text/html": [
              "<pre style=\"overflow: auto; white-space: pre;\">(0, 0): ───Rz(θ_0)───@─────────────────@───\n",
              "                     │                 │\n",
              "(0, 1): ───Rz(θ_1)───X───Rz(θ_0*θ_1)───X───</pre>"
            ],
            "text/plain": [
              "(0, 0): ───Rz(θ_0)───@─────────────────@───\n",
              "                     │                 │\n",
              "(0, 1): ───Rz(θ_1)───X───Rz(θ_0*θ_1)───X───"
            ]
          },
          "metadata": {},
          "execution_count": 20
        }
      ]
    },
    {
      "cell_type": "markdown",
      "metadata": {
        "id": "minus-blogger"
      },
      "source": [
        "### Resolve parameters of a circuit\n",
        "\n",
        "To obtain circuit with its paramterised gate operations resolved by some designated values, one can use the `resolve_parameters` method"
      ],
      "id": "minus-blogger"
    },
    {
      "cell_type": "code",
      "metadata": {
        "id": "weighted-monroe",
        "colab": {
          "base_uri": "https://localhost:8080/",
          "height": 68
        },
        "outputId": "cd65bb67-cc22-4821-fdd7-6441c923d4ed"
      },
      "source": [
        "# resolve the values:  theta_0 = 0, theta_1 = pi/2\n",
        "resolved_cq = cq.resolve_parameters(np.array([[0, np.pi/2]]))\n",
        "resolved_cq"
      ],
      "id": "weighted-monroe",
      "execution_count": 21,
      "outputs": [
        {
          "output_type": "execute_result",
          "data": {
            "text/html": [
              "<pre style=\"overflow: auto; white-space: pre;\">(0, 0): ───Rz(0)──────@───────────@───\n",
              "                      │           │\n",
              "(0, 1): ───Rz(0.5π)───X───Rz(0)───X───</pre>"
            ],
            "text/plain": [
              "(0, 0): ───Rz(0)──────@───────────@───\n",
              "                      │           │\n",
              "(0, 1): ───Rz(0.5π)───X───Rz(0)───X───"
            ]
          },
          "metadata": {},
          "execution_count": 21
        }
      ]
    },
    {
      "cell_type": "code",
      "metadata": {
        "id": "economic-maryland",
        "colab": {
          "base_uri": "https://localhost:8080/",
          "height": 68
        },
        "outputId": "8787c160-2745-488d-872e-0db90224c84a"
      },
      "source": [
        "# this also work for flattened circuit the usual way\n",
        "cq.flatten()\n",
        "resolved_cq = cq.resolve_parameters(np.array([[0, np.pi/2]]))\n",
        "resolved_cq"
      ],
      "id": "economic-maryland",
      "execution_count": 22,
      "outputs": [
        {
          "output_type": "execute_result",
          "data": {
            "text/html": [
              "<pre style=\"overflow: auto; white-space: pre;\">(0, 0): ───Rz(0)──────@───────────@───\n",
              "                      │           │\n",
              "(0, 1): ───Rz(0.5π)───X───Rz(0)───X───</pre>"
            ],
            "text/plain": [
              "(0, 0): ───Rz(0)──────@───────────@───\n",
              "                      │           │\n",
              "(0, 1): ───Rz(0.5π)───X───Rz(0)───X───"
            ]
          },
          "metadata": {},
          "execution_count": 22
        }
      ]
    },
    {
      "cell_type": "code",
      "metadata": {
        "id": "related-section"
      },
      "source": [
        "cq.unflatten()"
      ],
      "id": "related-section",
      "execution_count": 23,
      "outputs": []
    },
    {
      "cell_type": "code",
      "metadata": {
        "id": "naked-plaza",
        "colab": {
          "base_uri": "https://localhost:8080/"
        },
        "outputId": "372b3776-8976-40b9-d79d-837d73c686ce"
      },
      "source": [
        "# resolve multiple set of values:  \n",
        "# [(theta_0 = 0, theta_1 = pi/2), (theta_0 = pi/3, theta_1 = pi/4)]\n",
        "resolved_cqs = cq.resolve_parameters(np.array([[0, np.pi/2], [np.pi/3, np.pi/4]]))\n",
        "print('------------------------------------------------')\n",
        "print('resolved circuit 0:')\n",
        "print(resolved_cqs[0])\n",
        "print('------------------------------------------------')\n",
        "print('resolved circuit 1:')\n",
        "print(resolved_cqs[1])\n",
        "print('------------------------------------------------')"
      ],
      "id": "naked-plaza",
      "execution_count": 24,
      "outputs": [
        {
          "output_type": "stream",
          "name": "stdout",
          "text": [
            "------------------------------------------------\n",
            "resolved circuit 0:\n",
            "(0, 0): ───Rz(0)──────@───────────@───\n",
            "                      │           │\n",
            "(0, 1): ───Rz(0.5π)───X───Rz(0)───X───\n",
            "------------------------------------------------\n",
            "resolved circuit 1:\n",
            "(0, 0): ───Rz(0.333π)───@────────────────@───\n",
            "                        │                │\n",
            "(0, 1): ───Rz(0.25π)────X───Rz(0.262π)───X───\n",
            "------------------------------------------------\n"
          ]
        }
      ]
    },
    {
      "cell_type": "code",
      "metadata": {
        "id": "numerous-oregon",
        "colab": {
          "base_uri": "https://localhost:8080/"
        },
        "outputId": "b784daa6-7a19-4a71-bcbb-de2bcfd58828"
      },
      "source": [
        "n_circuit = 5\n",
        "# let's try some random values from -pi to pi\n",
        "random_values = np.random.uniform(-np.pi, np.pi, (n_circuit, len(cq.symbols)))\n",
        "resolved_cqs = cq.resolve_parameters(random_values)\n",
        "for c in resolved_cqs:\n",
        "    print('------------------------------------------------')\n",
        "    print(c)\n",
        "print('------------------------------------------------')"
      ],
      "id": "numerous-oregon",
      "execution_count": 25,
      "outputs": [
        {
          "output_type": "stream",
          "name": "stdout",
          "text": [
            "------------------------------------------------\n",
            "(0, 0): ───Rz(0.366π)───@────────────────@───\n",
            "                        │                │\n",
            "(0, 1): ───Rz(0.671π)───X───Rz(0.773π)───X───\n",
            "------------------------------------------------\n",
            "(0, 0): ───Rz(-0.201π)───@────────────────@───\n",
            "                         │                │\n",
            "(0, 1): ───Rz(-0.193π)───X───Rz(0.122π)───X───\n",
            "------------------------------------------------\n",
            "(0, 0): ───Rz(-0.651π)───@───────────────@───\n",
            "                         │               │\n",
            "(0, 1): ───Rz(-0.935π)───X───Rz(1.91π)───X───\n",
            "------------------------------------------------\n",
            "(0, 0): ───Rz(-0.028π)───@─────────────────@───\n",
            "                         │                 │\n",
            "(0, 1): ───Rz(0.716π)────X───Rz(-0.062π)───X───\n",
            "------------------------------------------------\n",
            "(0, 0): ───Rz(0.281π)────@─────────────────@───\n",
            "                         │                 │\n",
            "(0, 1): ───Rz(-0.575π)───X───Rz(-0.506π)───X───\n",
            "------------------------------------------------\n"
          ]
        }
      ]
    },
    {
      "cell_type": "markdown",
      "metadata": {
        "id": "creative-bidder"
      },
      "source": [
        "## Circuit simulation\n",
        "\n",
        "The `QuantumCircuit` class has two build-in methods for easy statevector and expectation simulation which uses the `tensorflow_quantum` layers.\n",
        "\n",
        "Alternative, one can simply treat a `QuantumCircuit` instance as a `cirq.Circuit` instance and perform simulation using cirq or tensorflow quantum build-in utilities"
      ],
      "id": "creative-bidder"
    },
    {
      "cell_type": "markdown",
      "metadata": {
        "id": "universal-abortion"
      },
      "source": [
        "### statevector simulation\n",
        "\n",
        "To perform statevector simulation, simply use the `get_state_vectors` method from `QuantumCircuit`\n",
        "\n",
        "The arguments are:\n",
        "- vals: The values feeded to the parameter resolver. Default is None for the case of a non-parameterised circuit. If dict, it represents the map from sympy.Symbol objects to symbol values. If list of dict, it represents a list of parameter resolvers each with a map from sympy.Symbol objects to symbol values. If numpy array, it represents a mapping of symbol values according to the symbol indices."
      ],
      "id": "universal-abortion"
    },
    {
      "cell_type": "code",
      "metadata": {
        "id": "allied-interest",
        "colab": {
          "base_uri": "https://localhost:8080/",
          "height": 68
        },
        "outputId": "79c8cfba-8855-41b2-fe4e-1100344f0812"
      },
      "source": [
        "# let's check the statevector for a Bell circuit\n",
        "cq = QuantumCircuit(2, name='BellCircuit')\n",
        "cq.H(0)\n",
        "cq.CNOT((0,1))\n",
        "cq"
      ],
      "id": "allied-interest",
      "execution_count": 26,
      "outputs": [
        {
          "output_type": "execute_result",
          "data": {
            "text/html": [
              "<pre style=\"overflow: auto; white-space: pre;\">(0, 0): ───H───@───\n",
              "               │\n",
              "(0, 1): ───────X───</pre>"
            ],
            "text/plain": [
              "(0, 0): ───H───@───\n",
              "               │\n",
              "(0, 1): ───────X───"
            ]
          },
          "metadata": {},
          "execution_count": 26
        }
      ]
    },
    {
      "cell_type": "code",
      "metadata": {
        "id": "executive-tomato",
        "colab": {
          "base_uri": "https://localhost:8080/"
        },
        "outputId": "fced0414-3549-4535-b3e2-a1167ef27347"
      },
      "source": [
        "cq.get_state_vectors()"
      ],
      "id": "executive-tomato",
      "execution_count": 27,
      "outputs": [
        {
          "output_type": "execute_result",
          "data": {
            "text/plain": [
              "array([[7.0710677e-01-1.2802769e-08j, 0.0000000e+00+0.0000000e+00j,\n",
              "        2.7021173e-15-3.0908620e-08j, 7.0710677e-01+6.1817239e-08j]],\n",
              "      dtype=complex64)"
            ]
          },
          "metadata": {},
          "execution_count": 27
        }
      ]
    },
    {
      "cell_type": "code",
      "metadata": {
        "id": "static-naples",
        "colab": {
          "base_uri": "https://localhost:8080/",
          "height": 68
        },
        "outputId": "53716f7b-b3bd-4b1c-df71-a27822b5fcd8"
      },
      "source": [
        "# let's check the statevector for a simple parameterised circuit\n",
        "cq = QuantumCircuit(2)\n",
        "cq.H([0, 1])\n",
        "cq.RZ(sp.Symbol('x'), [0, 1])\n",
        "cq.CNOT((0,1))\n",
        "cq"
      ],
      "id": "static-naples",
      "execution_count": 28,
      "outputs": [
        {
          "output_type": "execute_result",
          "data": {
            "text/html": [
              "<pre style=\"overflow: auto; white-space: pre;\">(0, 0): ───H───Rz(x)───@───\n",
              "                       │\n",
              "(0, 1): ───H───Rz(x)───X───</pre>"
            ],
            "text/plain": [
              "(0, 0): ───H───Rz(x)───@───\n",
              "                       │\n",
              "(0, 1): ───H───Rz(x)───X───"
            ]
          },
          "metadata": {},
          "execution_count": 28
        }
      ]
    },
    {
      "cell_type": "code",
      "metadata": {
        "id": "pleased-jonathan",
        "colab": {
          "base_uri": "https://localhost:8080/"
        },
        "outputId": "4aefafdb-7a76-4641-c799-76b06104aab6"
      },
      "source": [
        "# resolve the values of the symbol x from 0 to 2pi with intervals of 200\n",
        "symbol_values = np.linspace(0, 2*np.pi, 200)\n",
        "symbol_values = symbol_values.reshape((200, 1))\n",
        "state_vectors = cq.get_state_vectors(symbol_values)\n",
        "state_vectors[0]"
      ],
      "id": "pleased-jonathan",
      "execution_count": 29,
      "outputs": [
        {
          "output_type": "execute_result",
          "data": {
            "text/plain": [
              "array([0.49999997-1.81058493e-08j, 0.49999997+1.28027695e-08j,\n",
              "       0.49999997+4.37113883e-08j, 0.49999997+1.28027704e-08j],\n",
              "      dtype=complex64)"
            ]
          },
          "metadata": {},
          "execution_count": 29
        }
      ]
    },
    {
      "cell_type": "markdown",
      "metadata": {
        "id": "athletic-western"
      },
      "source": [
        "### expecation simulation\n",
        "\n",
        "To perform expectation simulation, simply use the `get_expectation` method from `QuantumCircuit`\n",
        "\n",
        "The arguments are:\n",
        "- vals: The values feeded to the parameter resolver. Default is None for the case of a non-parameterised circuit. If dict, it represents the map from sympy.Symbol objects to symbol values. If list of dict, it represents a list of parameter resolvers each with a map from sympy.Symbol objects to symbol values. If numpy array, it represents a mapping of symbol values according to the symbol indices.\n",
        "- operators: cirq operators for measuring the expecation value. If None, defaults to the PauliZ operator in the first qubit.\n",
        "- repetitions: Number of measurement for computing the expecation. Default is 5000."
      ],
      "id": "athletic-western"
    },
    {
      "cell_type": "code",
      "metadata": {
        "id": "helpful-obligation",
        "colab": {
          "base_uri": "https://localhost:8080/",
          "height": 68
        },
        "outputId": "caa5b24a-ea38-4e85-9b85-356199c025d8"
      },
      "source": [
        "# let's check the expectation for the first qubit for a Bell circuit\n",
        "cq = QuantumCircuit(2, name='BellCircuit')\n",
        "cq.H(0)\n",
        "cq.CNOT((0,1))\n",
        "cq"
      ],
      "id": "helpful-obligation",
      "execution_count": 35,
      "outputs": [
        {
          "output_type": "execute_result",
          "data": {
            "text/html": [
              "<pre style=\"overflow: auto; white-space: pre;\">(0, 0): ───H───@───\n",
              "               │\n",
              "(0, 1): ───────X───</pre>"
            ],
            "text/plain": [
              "(0, 0): ───H───@───\n",
              "               │\n",
              "(0, 1): ───────X───"
            ]
          },
          "metadata": {},
          "execution_count": 35
        }
      ]
    },
    {
      "cell_type": "code",
      "metadata": {
        "id": "spoken-niagara",
        "colab": {
          "base_uri": "https://localhost:8080/"
        },
        "outputId": "094535ea-38b8-41f0-dd99-221e8ba64cbe"
      },
      "source": [
        "result = cq.get_expectation(operators=[cirq.Z(qubits[0]), cirq.Z(qubits[1])], repetitions=5000)\n",
        "print(result)"
      ],
      "id": "spoken-niagara",
      "execution_count": 36,
      "outputs": [
        {
          "output_type": "stream",
          "name": "stdout",
          "text": [
            "[[-0.0044 -0.0044]]\n"
          ]
        }
      ]
    },
    {
      "cell_type": "markdown",
      "metadata": {
        "id": "criminal-glossary"
      },
      "source": [
        "We can see that both qubits have expectation 0 for the PauliZ operator. This means for both qubits, they have equal probability of being in the spin up (i.e. measured Z value is 1) or spin down (i.e. measured Z value is -1) states"
      ],
      "id": "criminal-glossary"
    },
    {
      "cell_type": "code",
      "metadata": {
        "id": "centered-retirement",
        "colab": {
          "base_uri": "https://localhost:8080/",
          "height": 34
        },
        "outputId": "d600cdde-5070-4513-ea21-16bfa769f2ae"
      },
      "source": [
        "# let's check the expectation for a simple parameterised circuit\n",
        "cq = QuantumCircuit(1)\n",
        "cq.RX(sp.Symbol('x'), 0)\n",
        "cq"
      ],
      "id": "centered-retirement",
      "execution_count": 37,
      "outputs": [
        {
          "output_type": "execute_result",
          "data": {
            "text/html": [
              "<pre style=\"overflow: auto; white-space: pre;\">(0, 0): ───Rx(x)───</pre>"
            ],
            "text/plain": [
              "(0, 0): ───Rx(x)───"
            ]
          },
          "metadata": {},
          "execution_count": 37
        }
      ]
    },
    {
      "cell_type": "code",
      "metadata": {
        "id": "heavy-pepper"
      },
      "source": [
        "symbol_values = np.linspace(0, 2*np.pi, 200)\n",
        "symbol_values = symbol_values.reshape((200, 1))\n",
        "result = cq.get_expectation(symbol_values)"
      ],
      "id": "heavy-pepper",
      "execution_count": 38,
      "outputs": []
    },
    {
      "cell_type": "code",
      "metadata": {
        "id": "cutting-israeli",
        "colab": {
          "base_uri": "https://localhost:8080/",
          "height": 296
        },
        "outputId": "f4401d54-c6aa-47b9-84f8-497b5e11c776"
      },
      "source": [
        "import matplotlib.pyplot as plt\n",
        "x = np.linspace(0, 2*np.pi, 200)\n",
        "y = result.reshape((200))\n",
        "plt.plot(x, y)\n",
        "plt.xlabel('x')\n",
        "plt.ylabel('Expecation(Z)')\n",
        "plt"
      ],
      "id": "cutting-israeli",
      "execution_count": 39,
      "outputs": [
        {
          "output_type": "execute_result",
          "data": {
            "text/plain": [
              "<module 'matplotlib.pyplot' from '/usr/local/lib/python3.7/dist-packages/matplotlib/pyplot.py'>"
            ]
          },
          "metadata": {},
          "execution_count": 39
        },
        {
          "output_type": "display_data",
          "data": {
            "image/png": "[encoded data removed]",
            "text/plain": [
              "<Figure size 432x288 with 1 Axes>"
            ]
          },
          "metadata": {
            "needs_background": "light"
          }
        }
      ]
    },
    {
      "cell_type": "code",
      "metadata": {
        "id": "terminal-nevada"
      },
      "source": [
        ""
      ],
      "id": "terminal-nevada",
      "execution_count": 39,
      "outputs": []
    }
  ]
}